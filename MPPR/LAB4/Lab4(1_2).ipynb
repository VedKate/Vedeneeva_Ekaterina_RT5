{
  "cells": [
    {
      "cell_type": "markdown",
      "metadata": {
        "id": "view-in-github",
        "colab_type": "text"
      },
      "source": [
        "<a href=\"https://colab.research.google.com/github/VedKate/Vedeneeva_Ekaterina_RT5/blob/main/MPPR/LAB4/Lab4(1_2).ipynb\" target=\"_parent\"><img src=\"https://colab.research.google.com/assets/colab-badge.svg\" alt=\"Open In Colab\"/></a>"
      ]
    },
    {
      "cell_type": "markdown",
      "source": [
        "# Лабораторная работа №4\n",
        "## Решение оптимизационных задач с помощью генетических алгоритмов\n"
      ],
      "metadata": {
        "id": "HsvLg8M8ebUX"
      }
    },
    {
      "cell_type": "markdown",
      "source": [
        "#Варианты для Задания\n",
        "Варианты и материалы для выполнения лабораторной работы доступны по [ссылке ЯндексДиск](https://disk.yandex.ru/d/0iuecfh0amQGmA)\n",
        "\n",
        "СУПЕРСПОСОБНОСТЬ\n"
      ],
      "metadata": {
        "id": "fpq20OpJhje4"
      }
    },
    {
      "cell_type": "markdown",
      "metadata": {
        "id": "fzjC1ECbdj-Z"
      },
      "source": [
        "## Импортирование необходимых библиотек"
      ]
    },
    {
      "cell_type": "code",
      "execution_count": 1,
      "metadata": {
        "id": "3O2PElov-nod"
      },
      "outputs": [],
      "source": [
        "import json\n",
        "import os\n",
        "import numpy as np\n",
        "import pandas as pd\n",
        "from PIL import Image, ImageDraw, ImageFont"
      ]
    },
    {
      "cell_type": "markdown",
      "metadata": {
        "id": "OF4X4J8_YlLo"
      },
      "source": [
        "## Инициализация слов для оптимизации"
      ]
    },
    {
      "cell_type": "code",
      "source": [
        "# ЗДЕСЬ ВПИСЫВАЕТЕ СЛОВА ПО ВАРИАНТУ\n",
        "messages = [np.random.choice(['суперспособность'], size=1000)]\n",
        "\n",
        "# тут необходимая подготовка, чтобы быстро считать функцию приспособленности\n",
        "df = pd.DataFrame(dict(msg=np.concatenate(messages)))\n",
        "df.msg = df.msg.str.lower()\n",
        "df.msg = df.msg.str.replace('ё', 'е').str.replace(u'\\xa0', u' ').str.replace(u'\\-', u' ')\n",
        "df.msg = df.msg.str.replace('[^a-zа-я0-9\\s?,.!]', '')\n",
        "\n",
        "sequence = list(''.join(df[~df.msg.isna()].msg.values))\n",
        "charmap = np.unique(sequence)\n",
        "\n",
        "diffs_mask = df[~df.msg.isna()].msg.str.len().cumsum().values.copy()[:-1] - 1\n",
        "diffs_boolean_mask = np.ones(len(sequence)-1, dtype=np.bool8)\n",
        "diffs_boolean_mask[diffs_mask] = 0\n",
        "sequence = list(''.join(df[~df.msg.isna()].msg.values))\n",
        "bisequence = (pd.Series(sequence[:-1])+pd.Series(sequence[1:]))\n",
        "BISEQUENCE_FREQS = bisequence.loc[diffs_boolean_mask].value_counts().reset_index()\n",
        "BISEQUENCE_FREQS.columns = ['biseq', 'freq']\n",
        "BISEQUENCE_FREQS"
      ],
      "metadata": {
        "colab": {
          "base_uri": "https://localhost:8080/",
          "height": 558
        },
        "id": "3rYIvTBERWVX",
        "outputId": "46d13973-4a7f-4165-a3b4-bf17c8028ea6"
      },
      "execution_count": 13,
      "outputs": [
        {
          "output_type": "stream",
          "name": "stderr",
          "text": [
            "<ipython-input-13-672ab8dc821b>:7: FutureWarning: The default value of regex will change from True to False in a future version.\n",
            "  df.msg = df.msg.str.replace('ё', 'е').str.replace(u'\\xa0', u' ').str.replace(u'\\-', u' ')\n",
            "<ipython-input-13-672ab8dc821b>:8: FutureWarning: The default value of regex will change from True to False in a future version.\n",
            "  df.msg = df.msg.str.replace('[^a-zа-я0-9\\s?,.!]', '')\n"
          ]
        },
        {
          "output_type": "execute_result",
          "data": {
            "text/plain": [
              "   biseq  freq\n",
              "0     ос  2000\n",
              "1     су  1000\n",
              "2     уп  1000\n",
              "3     пе  1000\n",
              "4     ер  1000\n",
              "5     рс  1000\n",
              "6     сп  1000\n",
              "7     по  1000\n",
              "8     со  1000\n",
              "9     об  1000\n",
              "10    бн  1000\n",
              "11    но  1000\n",
              "12    ст  1000\n",
              "13    ть  1000"
            ],
            "text/html": [
              "\n",
              "  <div id=\"df-d6b62880-7134-463e-ac90-cac4cc71c0e0\">\n",
              "    <div class=\"colab-df-container\">\n",
              "      <div>\n",
              "<style scoped>\n",
              "    .dataframe tbody tr th:only-of-type {\n",
              "        vertical-align: middle;\n",
              "    }\n",
              "\n",
              "    .dataframe tbody tr th {\n",
              "        vertical-align: top;\n",
              "    }\n",
              "\n",
              "    .dataframe thead th {\n",
              "        text-align: right;\n",
              "    }\n",
              "</style>\n",
              "<table border=\"1\" class=\"dataframe\">\n",
              "  <thead>\n",
              "    <tr style=\"text-align: right;\">\n",
              "      <th></th>\n",
              "      <th>biseq</th>\n",
              "      <th>freq</th>\n",
              "    </tr>\n",
              "  </thead>\n",
              "  <tbody>\n",
              "    <tr>\n",
              "      <th>0</th>\n",
              "      <td>ос</td>\n",
              "      <td>2000</td>\n",
              "    </tr>\n",
              "    <tr>\n",
              "      <th>1</th>\n",
              "      <td>су</td>\n",
              "      <td>1000</td>\n",
              "    </tr>\n",
              "    <tr>\n",
              "      <th>2</th>\n",
              "      <td>уп</td>\n",
              "      <td>1000</td>\n",
              "    </tr>\n",
              "    <tr>\n",
              "      <th>3</th>\n",
              "      <td>пе</td>\n",
              "      <td>1000</td>\n",
              "    </tr>\n",
              "    <tr>\n",
              "      <th>4</th>\n",
              "      <td>ер</td>\n",
              "      <td>1000</td>\n",
              "    </tr>\n",
              "    <tr>\n",
              "      <th>5</th>\n",
              "      <td>рс</td>\n",
              "      <td>1000</td>\n",
              "    </tr>\n",
              "    <tr>\n",
              "      <th>6</th>\n",
              "      <td>сп</td>\n",
              "      <td>1000</td>\n",
              "    </tr>\n",
              "    <tr>\n",
              "      <th>7</th>\n",
              "      <td>по</td>\n",
              "      <td>1000</td>\n",
              "    </tr>\n",
              "    <tr>\n",
              "      <th>8</th>\n",
              "      <td>со</td>\n",
              "      <td>1000</td>\n",
              "    </tr>\n",
              "    <tr>\n",
              "      <th>9</th>\n",
              "      <td>об</td>\n",
              "      <td>1000</td>\n",
              "    </tr>\n",
              "    <tr>\n",
              "      <th>10</th>\n",
              "      <td>бн</td>\n",
              "      <td>1000</td>\n",
              "    </tr>\n",
              "    <tr>\n",
              "      <th>11</th>\n",
              "      <td>но</td>\n",
              "      <td>1000</td>\n",
              "    </tr>\n",
              "    <tr>\n",
              "      <th>12</th>\n",
              "      <td>ст</td>\n",
              "      <td>1000</td>\n",
              "    </tr>\n",
              "    <tr>\n",
              "      <th>13</th>\n",
              "      <td>ть</td>\n",
              "      <td>1000</td>\n",
              "    </tr>\n",
              "  </tbody>\n",
              "</table>\n",
              "</div>\n",
              "      <button class=\"colab-df-convert\" onclick=\"convertToInteractive('df-d6b62880-7134-463e-ac90-cac4cc71c0e0')\"\n",
              "              title=\"Convert this dataframe to an interactive table.\"\n",
              "              style=\"display:none;\">\n",
              "        \n",
              "  <svg xmlns=\"http://www.w3.org/2000/svg\" height=\"24px\"viewBox=\"0 0 24 24\"\n",
              "       width=\"24px\">\n",
              "    <path d=\"M0 0h24v24H0V0z\" fill=\"none\"/>\n",
              "    <path d=\"M18.56 5.44l.94 2.06.94-2.06 2.06-.94-2.06-.94-.94-2.06-.94 2.06-2.06.94zm-11 1L8.5 8.5l.94-2.06 2.06-.94-2.06-.94L8.5 2.5l-.94 2.06-2.06.94zm10 10l.94 2.06.94-2.06 2.06-.94-2.06-.94-.94-2.06-.94 2.06-2.06.94z\"/><path d=\"M17.41 7.96l-1.37-1.37c-.4-.4-.92-.59-1.43-.59-.52 0-1.04.2-1.43.59L10.3 9.45l-7.72 7.72c-.78.78-.78 2.05 0 2.83L4 21.41c.39.39.9.59 1.41.59.51 0 1.02-.2 1.41-.59l7.78-7.78 2.81-2.81c.8-.78.8-2.07 0-2.86zM5.41 20L4 18.59l7.72-7.72 1.47 1.35L5.41 20z\"/>\n",
              "  </svg>\n",
              "      </button>\n",
              "      \n",
              "  <style>\n",
              "    .colab-df-container {\n",
              "      display:flex;\n",
              "      flex-wrap:wrap;\n",
              "      gap: 12px;\n",
              "    }\n",
              "\n",
              "    .colab-df-convert {\n",
              "      background-color: #E8F0FE;\n",
              "      border: none;\n",
              "      border-radius: 50%;\n",
              "      cursor: pointer;\n",
              "      display: none;\n",
              "      fill: #1967D2;\n",
              "      height: 32px;\n",
              "      padding: 0 0 0 0;\n",
              "      width: 32px;\n",
              "    }\n",
              "\n",
              "    .colab-df-convert:hover {\n",
              "      background-color: #E2EBFA;\n",
              "      box-shadow: 0px 1px 2px rgba(60, 64, 67, 0.3), 0px 1px 3px 1px rgba(60, 64, 67, 0.15);\n",
              "      fill: #174EA6;\n",
              "    }\n",
              "\n",
              "    [theme=dark] .colab-df-convert {\n",
              "      background-color: #3B4455;\n",
              "      fill: #D2E3FC;\n",
              "    }\n",
              "\n",
              "    [theme=dark] .colab-df-convert:hover {\n",
              "      background-color: #434B5C;\n",
              "      box-shadow: 0px 1px 3px 1px rgba(0, 0, 0, 0.15);\n",
              "      filter: drop-shadow(0px 1px 2px rgba(0, 0, 0, 0.3));\n",
              "      fill: #FFFFFF;\n",
              "    }\n",
              "  </style>\n",
              "\n",
              "      <script>\n",
              "        const buttonEl =\n",
              "          document.querySelector('#df-d6b62880-7134-463e-ac90-cac4cc71c0e0 button.colab-df-convert');\n",
              "        buttonEl.style.display =\n",
              "          google.colab.kernel.accessAllowed ? 'block' : 'none';\n",
              "\n",
              "        async function convertToInteractive(key) {\n",
              "          const element = document.querySelector('#df-d6b62880-7134-463e-ac90-cac4cc71c0e0');\n",
              "          const dataTable =\n",
              "            await google.colab.kernel.invokeFunction('convertToInteractive',\n",
              "                                                     [key], {});\n",
              "          if (!dataTable) return;\n",
              "\n",
              "          const docLinkHtml = 'Like what you see? Visit the ' +\n",
              "            '<a target=\"_blank\" href=https://colab.research.google.com/notebooks/data_table.ipynb>data table notebook</a>'\n",
              "            + ' to learn more about interactive tables.';\n",
              "          element.innerHTML = '';\n",
              "          dataTable['output_type'] = 'display_data';\n",
              "          await google.colab.output.renderOutput(dataTable, element);\n",
              "          const docLink = document.createElement('div');\n",
              "          docLink.innerHTML = docLinkHtml;\n",
              "          element.appendChild(docLink);\n",
              "        }\n",
              "      </script>\n",
              "    </div>\n",
              "  </div>\n",
              "  "
            ]
          },
          "metadata": {},
          "execution_count": 13
        }
      ]
    },
    {
      "cell_type": "markdown",
      "source": [
        "## Инициализация раскладки клавиатуры"
      ],
      "metadata": {
        "id": "jYw2Ar_wR46D"
      }
    },
    {
      "cell_type": "code",
      "source": [
        "FIRST_ROW = [list('1234567890')]\n",
        "SECOND_ROW = [list('йцукенгшщзх')]\n",
        "THIRD_ROW = [list('фывапролджэ')]\n",
        "FOURTH_ROW = [list('ячсмитьбю')]\n",
        "FIFTH_ROW = [list(', .\\n')]\n",
        "ROWS = [FIRST_ROW, SECOND_ROW, THIRD_ROW, FOURTH_ROW, FIFTH_ROW]\n",
        "\n",
        "KEYBINDS = \\\n",
        "[\n",
        "# first row\n",
        "[(68,68), (174, 68), (280, 68), (385, 68), (485, 68),\n",
        " (585, 68), (685, 68), (790, 68), (905, 68), (1010, 68)],\n",
        "# second row\n",
        "[(60, 201),(155, 201),(255, 201),(345, 201),(445, 201),\n",
        " (540, 201),(635, 201),(730, 201),(820, 201),(920, 201),(1015, 201)],\n",
        "# third row\n",
        "[(60, 350),(155, 350),(255, 350),(345, 350),(445, 350),\n",
        " (540, 350),(635, 350),(730, 350),(820, 350),(920, 350),(1015, 350)],\n",
        "# fourth row\n",
        "[(155, 500),(255, 500),(345, 500),(445, 500),\n",
        " (540, 500),(635, 500),(730, 500),(820, 500),(920, 500)],\n",
        "# fifth row\n",
        "[(224, 645),(530, 645),(855, 645),(980, 645)],\n",
        "]"
      ],
      "metadata": {
        "id": "lI9FBWPMRtyM"
      },
      "execution_count": 14,
      "outputs": []
    },
    {
      "cell_type": "markdown",
      "source": [
        "## Создание раскладки клавиатуры по заданному шаблону"
      ],
      "metadata": {
        "id": "3bTLVgoTSbJv"
      }
    },
    {
      "cell_type": "code",
      "source": [
        "def generate_one():\n",
        "    # mapper это наша хромосома одной особи\n",
        "    mapper = {}\n",
        "    for k, row in enumerate(ROWS):\n",
        "        for chng, row_lang in enumerate(row):\n",
        "            for i, s in enumerate(row_lang):\n",
        "                mapper[s] = (KEYBINDS[k][i][0]//10, KEYBINDS[k][i][1]//10)\n",
        "    return mapper"
      ],
      "metadata": {
        "id": "-fPI_aQXSaKu"
      },
      "execution_count": 15,
      "outputs": []
    },
    {
      "cell_type": "markdown",
      "source": [
        "## Функция отрисовки раскладки"
      ],
      "metadata": {
        "id": "3nVQP-7cSmCd"
      }
    },
    {
      "cell_type": "code",
      "source": [
        "def plot_keyboard(mapper, generation=0):\n",
        "    keyboard_img = Image.open('keyboard.png').convert('RGB')\n",
        "    d = ImageDraw.Draw(keyboard_img)\n",
        "    font = ImageFont.truetype(\"Roboto-Bold.ttf\", 30)\n",
        "    for s, v in mapper.items():\n",
        "        if s=='\\n':\n",
        "            s = 'Ent'\n",
        "        if s==' ':\n",
        "            s = '__'\n",
        "        x, y = v[0]*10, v[1]*10\n",
        "\n",
        "        d.text((x, y), s, font=font, fill=(255, 255, 255, 255))\n",
        "    return keyboard_img.resize((500, 250))"
      ],
      "metadata": {
        "id": "VffIk5ArR9C2"
      },
      "execution_count": 16,
      "outputs": []
    },
    {
      "cell_type": "markdown",
      "source": [
        "Проверим, что отрисовалось правильно"
      ],
      "metadata": {
        "id": "R5siwz3FTRVy"
      }
    },
    {
      "cell_type": "code",
      "source": [
        "plot_keyboard(generate_one())"
      ],
      "metadata": {
        "colab": {
          "base_uri": "https://localhost:8080/",
          "height": 267
        },
        "id": "ZxpNHoTBSTGC",
        "outputId": "f498a9a2-e4cb-46eb-aeea-422b400adcb1"
      },
      "execution_count": 17,
      "outputs": [
        {
          "output_type": "execute_result",
          "data": {
            "text/plain": [
              "<PIL.Image.Image image mode=RGB size=500x250 at 0x7FEDD0235910>"
            ],
            "image/png": "[encoded data removed]"
          },
          "metadata": {},
          "execution_count": 17
        }
      ]
    },
    {
      "cell_type": "markdown",
      "source": [
        "## Зададим функцию приспособленности"
      ],
      "metadata": {
        "id": "OlS_uLXnU3tz"
      }
    },
    {
      "cell_type": "code",
      "source": [
        "# функция приспособленности должна минимизировать расстояние,\n",
        "# требуемое для написания слов\n",
        "def get_scores(population):\n",
        "    scores = []\n",
        "    for new_mapper in population:\n",
        "        cache = {}\n",
        "        for i in charmap:\n",
        "            for j in charmap:\n",
        "                cache[i+j] = \\\n",
        "                    np.square(np.array(new_mapper.get(i, [-100, -100])) -\n",
        "                              np.array(new_mapper.get(j, [-100, -100]))).sum()**0.5\n",
        "\n",
        "        weights = BISEQUENCE_FREQS.biseq.map(cache)\n",
        "        scores.append(BISEQUENCE_FREQS['freq'].dot(weights))\n",
        "    return scores"
      ],
      "metadata": {
        "id": "5j7Y88hoUReW"
      },
      "execution_count": 18,
      "outputs": []
    },
    {
      "cell_type": "markdown",
      "source": [
        "## Зададим функции мутации и скрещивания"
      ],
      "metadata": {
        "id": "vPeaNDHBVR3I"
      }
    },
    {
      "cell_type": "code",
      "source": [
        "def mutation(thingey, mutation_rate=0.05):\n",
        "    # мутация меняет местами mutation_rate*100 % клавиш друг с другом \n",
        "    keys = list(thingey.keys())\n",
        "    values = list(thingey.values())\n",
        "\n",
        "    mutation = (np.random.random(size=len(values))<mutation_rate).nonzero()[0]\n",
        "    swap_index_to = np.random.choice(len(values),\n",
        "                                     size=len(values),\n",
        "                                     replace=False)\n",
        "\n",
        "    new_values = np.array(values)\n",
        "    for i, j in zip(mutation, swap_index_to[mutation]):\n",
        "        new_values[[i,j]] = new_values[[j,i]]\n",
        "\n",
        "    return {k:v for k,v in zip(keys, new_values)}\n",
        "\n",
        "def crossover(thingeyA, thingeyB):\n",
        "    # скрещивание между двумя особями заменяет n-ое количество клавиш 1ой особи\n",
        "    # n-ым количеством клавиш второй особи с сохранением \n",
        "    # порядка их встречаемости на раскладке (приоритет сверху-вниз, слево-направо) \n",
        "    keysA = list(thingeyA.keys())\n",
        "    valuesA = list(thingeyA.values())\n",
        "\n",
        "    keysB = list(thingeyB.keys())\n",
        "    valuesB = list(thingeyB.values())\n",
        "\n",
        "    ranksA = np.argsort(keysA)\n",
        "\n",
        "    keysA = np.array(keysA)[ranksA].copy()\n",
        "    keysB = np.array(keysB)[ranksA].copy()\n",
        "    valuesA = np.array(valuesA)[ranksA].copy()\n",
        "    valuesB = np.array(valuesB)[ranksA].copy()\n",
        "\n",
        "    offset = np.random.randint(1, max(2, len(valuesA)-1))\n",
        "    offspring = {k:v for k, v in zip(keysA[:offset], valuesA[:offset])}\n",
        "\n",
        "    keysO = list(offspring.keys())\n",
        "    valuesO = list(offspring.values())\n",
        "\n",
        "    keys_rest = list(filter(lambda k: k not in offspring, thingeyB.keys()))\n",
        "    valuesRest = valuesA[offset:]\n",
        "    values = valuesB[offset:]\n",
        "    ranking = (\n",
        "        values + \n",
        "        (np.max(values)+1)**np.arange(len(values[0])).reshape(1, -1)\n",
        "               ).sum(axis=1).argsort()\n",
        "    for k, v in zip(keys_rest, valuesRest[ranking]):\n",
        "        offspring[k] = v\n",
        "\n",
        "    # проверка что клавиши не потерялись и не задублировались\n",
        "    assert set(offspring.keys()\n",
        "    ).symmetric_difference(thingeyA.keys()).__len__()==0\n",
        "    assert set(map(tuple, offspring.values())\n",
        "    ).symmetric_difference(set(map(tuple, thingeyA.values()))).__len__()==0\n",
        "    return offspring"
      ],
      "metadata": {
        "id": "_fN0JOmCVkoI"
      },
      "execution_count": 19,
      "outputs": []
    },
    {
      "cell_type": "markdown",
      "source": [
        "## Зададим функции генерации начальной популяции и новой"
      ],
      "metadata": {
        "id": "axPDkBeQW4Vn"
      }
    },
    {
      "cell_type": "code",
      "source": [
        "def generate_initial(POPULATION_SIZE, mrate=0.0):\n",
        "    # первая раскладка неизменённая (может быть лучшее решение)\n",
        "    population = [mutation(generate_one(), mutation_rate=0.0)]\n",
        "\n",
        "    # остальные со случайными перестановками клавиш\n",
        "    for _ in range(max(0, POPULATION_SIZE - 1)):\n",
        "        population.append(mutation(generate_one(), mutation_rate=mrate))\n",
        "    return population\n",
        "\n",
        "def generate_new_population(population, scores,\n",
        "                            population_size=10,\n",
        "                            elite_topk=1,\n",
        "                            random_size=2,\n",
        "                            ):\n",
        "    new_population = []\n",
        "    # элитизм\n",
        "    for topK in range(elite_topk):\n",
        "        new_population.append(population[np.argsort(scores)[topK]].copy())\n",
        "    # трансформация функции приспособленности\n",
        "    # оценка -> ранг -> экспоненцирование -> нормализация\n",
        "    scores_ranks = scores.copy()\n",
        "    for i, r in enumerate(np.argsort(scores)):\n",
        "        scores_ranks[r] = i\n",
        "    scores_ranks = np.exp(-np.array(scores_ranks)/len(scores_ranks)*4)\n",
        "    scores_ranks /= scores_ranks.sum()\n",
        "\n",
        "    # рулеточный отбор особей для продолжения потомства\n",
        "    for _ in range(max(0, population_size - elite_topk - random_size)):\n",
        "        parentA, parentB = np.random.choice(len(scores), size=2, replace=True, p=scores_ranks)\n",
        "        new_population.append(mutation(crossover(population[parentA], population[parentB])))\n",
        "    # добавление особей со стороны\n",
        "    for _ in range(max(0, random_size)):\n",
        "        if np.random.random() < 0.5:\n",
        "            # полностью случайная раскладка с перемешанными клавишами\n",
        "            new_population.append(mutation(generate_one(), 1.0))\n",
        "        else:\n",
        "            # случайно изменённая лучшая (hill climbing)\n",
        "            new_population.append(mutation(new_population[0]))\n",
        "\n",
        "    return new_population"
      ],
      "metadata": {
        "id": "-l45eGbyXDQL"
      },
      "execution_count": 20,
      "outputs": []
    },
    {
      "cell_type": "markdown",
      "source": [
        "## Осуществим оптимизацию раскладки клавиатуры с помощью генетического алгоритма"
      ],
      "metadata": {
        "id": "CvnePrWHZ_gH"
      }
    },
    {
      "cell_type": "code",
      "source": [
        "POPULATION_SIZE = 200\n",
        "ELITISM_TOPK = 10\n",
        "RANDOM_SIZE = 100\n",
        "NUM_GENERATIONS = 25\n",
        "NUM_RESTARTS = 10\n",
        "\n",
        "bscore = np.inf\n",
        "stats = []\n",
        "for restart in range(NUM_RESTARTS):\n",
        "    print('Рестарт: %d' % (restart+1))\n",
        "    population = generate_initial(POPULATION_SIZE, 1.0)\n",
        "    for generation in range(NUM_GENERATIONS):\n",
        "        scores = get_scores(population)\n",
        "        population = generate_new_population(population, scores,\n",
        "                                            POPULATION_SIZE,\n",
        "                                            ELITISM_TOPK,\n",
        "                                            RANDOM_SIZE)\n",
        "        stats.append((generation, min(scores), max(scores), np.mean(scores)))\n",
        "        if min(scores) < bscore:\n",
        "            bscore = min(scores)\n",
        "            bimg = plot_keyboard(population[0], generation)\n",
        "            print(('Поколение: %d\\tЛучшее расстояние: %.1f\\t'\n",
        "                   'Худшее расстояние: %.1f\\t'\n",
        "                   'Среднее расстояние в популяции: %.1f')%stats[-1])"
      ],
      "metadata": {
        "colab": {
          "base_uri": "https://localhost:8080/"
        },
        "id": "Dp_D3g-FYm0h",
        "outputId": "62cbbf4e-c33b-4ff7-af24-3f34fc68b492"
      },
      "execution_count": 21,
      "outputs": [
        {
          "output_type": "stream",
          "name": "stdout",
          "text": [
            "Рестарт: 1\n",
            "Поколение: 0\tЛучшее расстояние: 370269.7\tХудшее расстояние: 1018874.5\tСреднее расстояние в популяции: 643574.4\n",
            "Поколение: 1\tЛучшее расстояние: 339741.3\tХудшее расстояние: 1020488.3\tСреднее расстояние в популяции: 580177.2\n",
            "Поколение: 2\tЛучшее расстояние: 309272.2\tХудшее расстояние: 1005271.2\tСреднее расстояние в популяции: 557312.1\n",
            "Поколение: 3\tЛучшее расстояние: 297770.6\tХудшее расстояние: 951450.7\tСреднее расстояние в популяции: 532267.7\n",
            "Поколение: 5\tЛучшее расстояние: 278235.7\tХудшее расстояние: 948471.5\tСреднее расстояние в популяции: 520164.9\n",
            "Поколение: 7\tЛучшее расстояние: 263585.1\tХудшее расстояние: 935633.4\tСреднее расстояние в популяции: 500847.7\n",
            "Поколение: 8\tЛучшее расстояние: 244870.6\tХудшее расстояние: 949968.4\tСреднее расстояние в популяции: 479361.6\n",
            "Поколение: 10\tЛучшее расстояние: 226870.6\tХудшее расстояние: 934138.7\tСреднее расстояние в популяции: 473028.6\n",
            "Поколение: 12\tЛучшее расстояние: 218198.0\tХудшее расстояние: 925705.9\tСреднее расстояние в популяции: 469531.6\n",
            "Поколение: 17\tЛучшее расстояние: 217198.0\tХудшее расстояние: 893986.7\tСреднее расстояние в популяции: 458138.9\n",
            "Рестарт: 2\n",
            "Рестарт: 3\n",
            "Поколение: 15\tЛучшее расстояние: 213520.6\tХудшее расстояние: 898280.5\tСреднее расстояние в популяции: 466364.9\n",
            "Поколение: 17\tЛучшее расстояние: 210235.2\tХудшее расстояние: 869518.0\tСреднее расстояние в популяции: 461308.4\n",
            "Поколение: 19\tЛучшее расстояние: 202027.8\tХудшее расстояние: 928816.1\tСреднее расстояние в популяции: 457030.5\n",
            "Поколение: 22\tЛучшее расстояние: 192027.8\tХудшее расстояние: 970149.1\tСреднее расстояние в популяции: 449766.7\n",
            "Рестарт: 4\n",
            "Рестарт: 5\n",
            "Рестарт: 6\n",
            "Рестарт: 7\n",
            "Рестарт: 8\n",
            "Рестарт: 9\n",
            "Рестарт: 10\n"
          ]
        }
      ]
    },
    {
      "cell_type": "markdown",
      "source": [
        "## Отобразим лучшую раскладку"
      ],
      "metadata": {
        "id": "2I8Q2YaxeadV"
      }
    },
    {
      "cell_type": "code",
      "source": [
        "bimg"
      ],
      "metadata": {
        "colab": {
          "base_uri": "https://localhost:8080/",
          "height": 267
        },
        "id": "nNhreBnabPji",
        "outputId": "aa0c4771-3104-41a6-e0d9-a415afa584f7"
      },
      "execution_count": 22,
      "outputs": [
        {
          "output_type": "execute_result",
          "data": {
            "text/plain": [
              "<PIL.Image.Image image mode=RGB size=500x250 at 0x7FEDCFE9C670>"
            ],
            "image/png": "[encoded data removed]"
          },
          "metadata": {},
          "execution_count": 22
        }
      ]
    }
  ],
  "metadata": {
    "colab": {
      "collapsed_sections": [
        "VrOocc6D_O7M"
      ],
      "provenance": [],
      "include_colab_link": true
    },
    "kernelspec": {
      "display_name": "Python 3",
      "name": "python3"
    },
    "language_info": {
      "name": "python"
    }
  },
  "nbformat": 4,
  "nbformat_minor": 0
}