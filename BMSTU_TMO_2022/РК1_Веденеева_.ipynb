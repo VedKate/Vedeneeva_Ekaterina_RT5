{
  "nbformat": 4,
  "nbformat_minor": 0,
  "metadata": {
    "colab": {
      "name": "РК1 Веденеева .ipynb",
      "provenance": [],
      "collapsed_sections": [],
      "authorship_tag": "ABX9TyPVV1RYc1uUBrOC+oYa5f2W",
      "include_colab_link": true
    },
    "kernelspec": {
      "name": "python3",
      "display_name": "Python 3"
    },
    "language_info": {
      "name": "python"
    }
  },
  "cells": [
    {
      "cell_type": "markdown",
      "metadata": {
        "id": "view-in-github",
        "colab_type": "text"
      },
      "source": [
        "<a href=\"https://colab.research.google.com/github/VedKate/Vedeneeva_Ekaterina_RT5/blob/main/BMSTU_TMO_2022/%D0%A0%D0%9A1_%D0%92%D0%B5%D0%B4%D0%B5%D0%BD%D0%B5%D0%B5%D0%B2%D0%B0_.ipynb\" target=\"_parent\"><img src=\"https://colab.research.google.com/assets/colab-badge.svg\" alt=\"Open In Colab\"/></a>"
      ]
    },
    {
      "cell_type": "markdown",
      "source": [
        "# РК-1\n",
        "# Веденеева Е.И. РТ5-61Б"
      ],
      "metadata": {
        "id": "a7e3ixnX8nPi"
      }
    },
    {
      "cell_type": "code",
      "execution_count": null,
      "metadata": {
        "colab": {
          "base_uri": "https://localhost:8080/"
        },
        "id": "3DZj1y4Lfv7V",
        "outputId": "82510c0c-c4b5-4587-cebd-aeaa8fc2fa62"
      },
      "outputs": [
        {
          "output_type": "stream",
          "name": "stdout",
          "text": [
            "Mounted at /content/drive\n"
          ]
        }
      ],
      "source": [
        "from google.colab import drive\n",
        "drive.mount('/content/drive')"
      ]
    },
    {
      "cell_type": "code",
      "source": [
        "import numpy as np\n",
        "import pandas as pd\n",
        "import seaborn as sns\n",
        "import matplotlib.pyplot as plt\n",
        "%matplotlib inline \n",
        "sns.set(style=\"ticks\")"
      ],
      "metadata": {
        "id": "Bz1LD1GGgMWI"
      },
      "execution_count": null,
      "outputs": []
    },
    {
      "cell_type": "markdown",
      "source": [
        "**Подключим файл и посмотрим некоторые строки. Размер датасета указан ниже.**"
      ],
      "metadata": {
        "id": "phz7NQdelcC_"
      }
    },
    {
      "cell_type": "code",
      "source": [
        "filename = '/content/drive/My Drive/Colab Notebooks/heart.csv'\n",
        "df = pd.read_csv(filename)\n",
        "print(df)"
      ],
      "metadata": {
        "colab": {
          "base_uri": "https://localhost:8080/"
        },
        "id": "UxnJZOTGgVXZ",
        "outputId": "03d4847e-68a4-4dd5-94d8-87496202a388"
      },
      "execution_count": null,
      "outputs": [
        {
          "output_type": "stream",
          "name": "stdout",
          "text": [
            "      age  sex  cp  trestbps  chol  fbs  restecg  thalach  exang  oldpeak  \\\n",
            "0      52    1   0       125   212    0        1      168      0      1.0   \n",
            "1      53    1   0       140   203    1        0      155      1      3.1   \n",
            "2      70    1   0       145   174    0        1      125      1      2.6   \n",
            "3      61    1   0       148   203    0        1      161      0      0.0   \n",
            "4      62    0   0       138   294    1        1      106      0      1.9   \n",
            "...   ...  ...  ..       ...   ...  ...      ...      ...    ...      ...   \n",
            "1020   59    1   1       140   221    0        1      164      1      0.0   \n",
            "1021   60    1   0       125   258    0        0      141      1      2.8   \n",
            "1022   47    1   0       110   275    0        0      118      1      1.0   \n",
            "1023   50    0   0       110   254    0        0      159      0      0.0   \n",
            "1024   54    1   0       120   188    0        1      113      0      1.4   \n",
            "\n",
            "      slope  ca  thal  target  \n",
            "0         2   2     3       0  \n",
            "1         0   0     3       0  \n",
            "2         0   0     3       0  \n",
            "3         2   1     3       0  \n",
            "4         1   3     2       0  \n",
            "...     ...  ..   ...     ...  \n",
            "1020      2   0     2       1  \n",
            "1021      1   1     3       0  \n",
            "1022      1   1     2       0  \n",
            "1023      2   0     2       1  \n",
            "1024      1   1     3       0  \n",
            "\n",
            "[1025 rows x 14 columns]\n"
          ]
        }
      ]
    },
    {
      "cell_type": "markdown",
      "source": [
        "**Информация об атрибутах:**\n",
        "1. age\n",
        "2. sex\n",
        "3. chest pain type (4 values)\n",
        "4. resting blood pressure\n",
        "5. serum cholestoral in mg/dl\n",
        "6. fasting blood sugar > 120 mg/dl\n",
        "7. resting electrocardiographic results (values 0,1,2)\n",
        "8. maximum heart rate achieved\n",
        "9. exercise induced angina\n",
        "10. oldpeak = ST depression induced by exercise relative to rest\n",
        "11. the slope of the peak exercise ST segment\n",
        "12. number of major vessels (0-3) colored by flourosopy\n",
        "13. thal: 0 = normal; 1 = fixed defect; 2 = reversable defect\n",
        "\n",
        "The names and social security numbers of the patients were recently removed from the database, replaced with dummy values.\n",
        "\n",
        "\n"
      ],
      "metadata": {
        "id": "x2bjMUB_hBGj"
      }
    },
    {
      "cell_type": "markdown",
      "source": [
        "**Посмотрим типы данных**"
      ],
      "metadata": {
        "id": "owzKGFd_lOY_"
      }
    },
    {
      "cell_type": "code",
      "source": [
        "df.info()"
      ],
      "metadata": {
        "colab": {
          "base_uri": "https://localhost:8080/"
        },
        "id": "TSwRNCBWibkX",
        "outputId": "9e5872be-23da-4464-af74-044efbd9ad01"
      },
      "execution_count": null,
      "outputs": [
        {
          "output_type": "stream",
          "name": "stdout",
          "text": [
            "<class 'pandas.core.frame.DataFrame'>\n",
            "RangeIndex: 1025 entries, 0 to 1024\n",
            "Data columns (total 14 columns):\n",
            " #   Column    Non-Null Count  Dtype  \n",
            "---  ------    --------------  -----  \n",
            " 0   age       1025 non-null   int64  \n",
            " 1   sex       1025 non-null   int64  \n",
            " 2   cp        1025 non-null   int64  \n",
            " 3   trestbps  1025 non-null   int64  \n",
            " 4   chol      1025 non-null   int64  \n",
            " 5   fbs       1025 non-null   int64  \n",
            " 6   restecg   1025 non-null   int64  \n",
            " 7   thalach   1025 non-null   int64  \n",
            " 8   exang     1025 non-null   int64  \n",
            " 9   oldpeak   1025 non-null   float64\n",
            " 10  slope     1025 non-null   int64  \n",
            " 11  ca        1025 non-null   int64  \n",
            " 12  thal      1025 non-null   int64  \n",
            " 13  target    1025 non-null   int64  \n",
            "dtypes: float64(1), int64(13)\n",
            "memory usage: 112.2 KB\n"
          ]
        }
      ]
    },
    {
      "cell_type": "markdown",
      "source": [
        "**Проверим наличие пустых значений**"
      ],
      "metadata": {
        "id": "UROVaXTnmERI"
      }
    },
    {
      "cell_type": "code",
      "source": [
        "df.isnull().sum()"
      ],
      "metadata": {
        "colab": {
          "base_uri": "https://localhost:8080/"
        },
        "id": "FVRAz9QEk6F6",
        "outputId": "4817365a-66fc-40ed-8a1d-cba0bd766a72"
      },
      "execution_count": null,
      "outputs": [
        {
          "output_type": "execute_result",
          "data": {
            "text/plain": [
              "age         0\n",
              "sex         0\n",
              "cp          0\n",
              "trestbps    0\n",
              "chol        0\n",
              "fbs         0\n",
              "restecg     0\n",
              "thalach     0\n",
              "exang       0\n",
              "oldpeak     0\n",
              "slope       0\n",
              "ca          0\n",
              "thal        0\n",
              "target      0\n",
              "dtype: int64"
            ]
          },
          "metadata": {},
          "execution_count": 5
        }
      ]
    },
    {
      "cell_type": "markdown",
      "source": [
        "Пропусков нет."
      ],
      "metadata": {
        "id": "2iDenY7IlA-l"
      }
    },
    {
      "cell_type": "markdown",
      "source": [
        "**Целевым признаком является атрибут \"target\"**"
      ],
      "metadata": {
        "id": "fvOkpsR-mLmt"
      }
    },
    {
      "cell_type": "code",
      "source": [
        "df['target'].unique()"
      ],
      "metadata": {
        "colab": {
          "base_uri": "https://localhost:8080/"
        },
        "id": "Di5r2rnTmy75",
        "outputId": "20702887-f8cc-4fd6-e822-6541a16b2321"
      },
      "execution_count": null,
      "outputs": [
        {
          "output_type": "execute_result",
          "data": {
            "text/plain": [
              "array([0, 1])"
            ]
          },
          "metadata": {},
          "execution_count": 6
        }
      ]
    },
    {
      "cell_type": "markdown",
      "source": [
        "**Joinplot**        \n",
        "\n",
        "Возраст/артериальное давление"
      ],
      "metadata": {
        "id": "tXUm03BV56i5"
      }
    },
    {
      "cell_type": "code",
      "source": [
        "sns.jointplot(x='age',y = 'trestbps', data=df)"
      ],
      "metadata": {
        "colab": {
          "base_uri": "https://localhost:8080/",
          "height": 455
        },
        "id": "qASN4F7Z4_DR",
        "outputId": "e04caacc-86f1-4075-c97b-abb1d98a1e59"
      },
      "execution_count": 20,
      "outputs": [
        {
          "output_type": "execute_result",
          "data": {
            "text/plain": [
              "<seaborn.axisgrid.JointGrid at 0x7fe1d8f3d250>"
            ]
          },
          "metadata": {},
          "execution_count": 20
        },
        {
          "output_type": "display_data",
          "data": {
            "text/plain": [
              "<Figure size 432x432 with 3 Axes>"
            ],
            "image/png": "[encoded data removed]"
          },
          "metadata": {}
        }
      ]
    },
    {
      "cell_type": "markdown",
      "source": [
        "**Корреляционная матрица** "
      ],
      "metadata": {
        "id": "d2lxAR__6O9T"
      }
    },
    {
      "cell_type": "code",
      "source": [
        "print(df.corr())"
      ],
      "metadata": {
        "id": "R7bfuAF_nZpd",
        "colab": {
          "base_uri": "https://localhost:8080/"
        },
        "outputId": "b240a965-9bad-4486-b75c-23df8d60baec"
      },
      "execution_count": null,
      "outputs": [
        {
          "output_type": "stream",
          "name": "stdout",
          "text": [
            "               age       sex        cp  trestbps      chol       fbs  \\\n",
            "age       1.000000 -0.103240 -0.071966  0.271121  0.219823  0.121243   \n",
            "sex      -0.103240  1.000000 -0.041119 -0.078974 -0.198258  0.027200   \n",
            "cp       -0.071966 -0.041119  1.000000  0.038177 -0.081641  0.079294   \n",
            "trestbps  0.271121 -0.078974  0.038177  1.000000  0.127977  0.181767   \n",
            "chol      0.219823 -0.198258 -0.081641  0.127977  1.000000  0.026917   \n",
            "fbs       0.121243  0.027200  0.079294  0.181767  0.026917  1.000000   \n",
            "restecg  -0.132696 -0.055117  0.043581 -0.123794 -0.147410 -0.104051   \n",
            "thalach  -0.390227 -0.049365  0.306839 -0.039264 -0.021772 -0.008866   \n",
            "exang     0.088163  0.139157 -0.401513  0.061197  0.067382  0.049261   \n",
            "oldpeak   0.208137  0.084687 -0.174733  0.187434  0.064880  0.010859   \n",
            "slope    -0.169105 -0.026666  0.131633 -0.120445 -0.014248 -0.061902   \n",
            "ca        0.271551  0.111729 -0.176206  0.104554  0.074259  0.137156   \n",
            "thal      0.072297  0.198424 -0.163341  0.059276  0.100244 -0.042177   \n",
            "target   -0.229324 -0.279501  0.434854 -0.138772 -0.099966 -0.041164   \n",
            "\n",
            "           restecg   thalach     exang   oldpeak     slope        ca  \\\n",
            "age      -0.132696 -0.390227  0.088163  0.208137 -0.169105  0.271551   \n",
            "sex      -0.055117 -0.049365  0.139157  0.084687 -0.026666  0.111729   \n",
            "cp        0.043581  0.306839 -0.401513 -0.174733  0.131633 -0.176206   \n",
            "trestbps -0.123794 -0.039264  0.061197  0.187434 -0.120445  0.104554   \n",
            "chol     -0.147410 -0.021772  0.067382  0.064880 -0.014248  0.074259   \n",
            "fbs      -0.104051 -0.008866  0.049261  0.010859 -0.061902  0.137156   \n",
            "restecg   1.000000  0.048411 -0.065606 -0.050114  0.086086 -0.078072   \n",
            "thalach   0.048411  1.000000 -0.380281 -0.349796  0.395308 -0.207888   \n",
            "exang    -0.065606 -0.380281  1.000000  0.310844 -0.267335  0.107849   \n",
            "oldpeak  -0.050114 -0.349796  0.310844  1.000000 -0.575189  0.221816   \n",
            "slope     0.086086  0.395308 -0.267335 -0.575189  1.000000 -0.073440   \n",
            "ca       -0.078072 -0.207888  0.107849  0.221816 -0.073440  1.000000   \n",
            "thal     -0.020504 -0.098068  0.197201  0.202672 -0.094090  0.149014   \n",
            "target    0.134468  0.422895 -0.438029 -0.438441  0.345512 -0.382085   \n",
            "\n",
            "              thal    target  \n",
            "age       0.072297 -0.229324  \n",
            "sex       0.198424 -0.279501  \n",
            "cp       -0.163341  0.434854  \n",
            "trestbps  0.059276 -0.138772  \n",
            "chol      0.100244 -0.099966  \n",
            "fbs      -0.042177 -0.041164  \n",
            "restecg  -0.020504  0.134468  \n",
            "thalach  -0.098068  0.422895  \n",
            "exang     0.197201 -0.438029  \n",
            "oldpeak   0.202672 -0.438441  \n",
            "slope    -0.094090  0.345512  \n",
            "ca        0.149014 -0.382085  \n",
            "thal      1.000000 -0.337838  \n",
            "target   -0.337838  1.000000  \n"
          ]
        }
      ]
    },
    {
      "cell_type": "code",
      "source": [
        "plt.figure(figsize = (10,9))\n",
        "sns.heatmap(df.corr())"
      ],
      "metadata": {
        "colab": {
          "base_uri": "https://localhost:8080/",
          "height": 597
        },
        "id": "EBz62teUs20N",
        "outputId": "2cc3e59b-1340-45ac-d19b-73eea3b89fa8"
      },
      "execution_count": null,
      "outputs": [
        {
          "output_type": "execute_result",
          "data": {
            "text/plain": [
              "<matplotlib.axes._subplots.AxesSubplot at 0x7fe1dafd3550>"
            ]
          },
          "metadata": {},
          "execution_count": 15
        },
        {
          "output_type": "display_data",
          "data": {
            "text/plain": [
              "<Figure size 720x648 with 2 Axes>"
            ],
            "image/png": "[encoded data removed]"
          },
          "metadata": {}
        }
      ]
    },
    {
      "cell_type": "markdown",
      "source": [
        "Самые большие значения корреляции с целевым признаком показывают такие атрибуты, как:\n",
        "* тип боли в груди (0.43)\n",
        "* и максимальная достигнутая частота сердечных сокращений (0.42)\n",
        "* oldpeak (-0.44)\n",
        "* стенокардия, вызванная физ. нагрузкой (-0.44)\n",
        "\n",
        "Эти значения указывают на наличие слабой корреляции (в двух последних случаях отрицаельной)\n",
        "\n",
        "\n",
        "\n",
        "Сасмые близкие к нулю значения корреляции с целеввым признаком показывают атрибуты:\n",
        "* уровень сахара в крови (-0.04)\n",
        "* уровень холестерина (-0.09)\n",
        "\n",
        "Эти значения меньше всего проявляют статистическую связь с целевым признаком. Их можно убрать из модели.  \n"
      ],
      "metadata": {
        "id": "y5kcphMs0KZT"
      }
    }
  ]
}