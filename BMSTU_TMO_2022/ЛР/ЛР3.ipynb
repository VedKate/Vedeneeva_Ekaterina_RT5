{
  "nbformat": 4,
  "nbformat_minor": 0,
  "metadata": {
    "colab": {
      "name": "ЛР3.ipynb",
      "provenance": [],
      "collapsed_sections": [
        "XHRYrO_GAIuz",
        "wQRrQEhuDsf6",
        "pjpUuG7yj81G",
        "bgMXmja9lISe",
        "EQGGWtsXmDuS"
      ],
      "authorship_tag": "ABX9TyOqg+ammNtiUQ96dqNYMqj6",
      "include_colab_link": true
    },
    "kernelspec": {
      "name": "python3",
      "display_name": "Python 3"
    },
    "language_info": {
      "name": "python"
    }
  },
  "cells": [
    {
      "cell_type": "markdown",
      "metadata": {
        "id": "view-in-github",
        "colab_type": "text"
      },
      "source": [
        "<a href=\"https://colab.research.google.com/github/VedKate/Vedeneeva_Ekaterina_RT5/blob/main/BMSTU_TMO_2022/%D0%9B%D0%A0/%D0%9B%D0%A03.ipynb\" target=\"_parent\"><img src=\"https://colab.research.google.com/assets/colab-badge.svg\" alt=\"Open In Colab\"/></a>"
      ]
    },
    {
      "cell_type": "markdown",
      "source": [
        "# Подготовка обучающей и тестовой выборки, кросс-валидация и подбор гиперпараметров на примере метода ближайших соседей"
      ],
      "metadata": {
        "id": "qUI-GCZ7_oLF"
      }
    },
    {
      "cell_type": "markdown",
      "source": [
        "Веденеева Е.И. РТ5-61Б"
      ],
      "metadata": {
        "id": "km_SrcFC_taO"
      }
    },
    {
      "cell_type": "code",
      "source": [
        "from IPython.display import Image\n",
        "import numpy as np\n",
        "import pandas as pd\n",
        "from sklearn.preprocessing import StandardScaler\n",
        "from sklearn.model_selection import train_test_split\n",
        "from sklearn.datasets import load_iris, load_boston\n",
        "from sklearn.neighbors import KNeighborsRegressor, KNeighborsClassifier\n",
        "from sklearn.model_selection import cross_val_score, cross_validate\n",
        "from sklearn.model_selection import KFold, RepeatedKFold, LeaveOneOut, LeavePOut, ShuffleSplit, StratifiedKFold\n",
        "from sklearn.metrics import accuracy_score, balanced_accuracy_score\n",
        "from sklearn.metrics import precision_score, recall_score, f1_score, classification_report\n",
        "from sklearn.metrics import confusion_matrix\n",
        "from sklearn.metrics import mean_absolute_error, mean_squared_error, mean_squared_log_error, median_absolute_error, r2_score \n",
        "from sklearn.metrics import roc_curve, roc_auc_score\n",
        "from sklearn.model_selection import GridSearchCV, RandomizedSearchCV\n",
        "from sklearn.model_selection import learning_curve, validation_curve\n",
        "import seaborn as sns\n",
        "import matplotlib.pyplot as plt\n",
        "%matplotlib inline \n",
        "sns.set(style=\"ticks\")"
      ],
      "metadata": {
        "id": "bxzhUWsd5-db"
      },
      "execution_count": 2,
      "outputs": []
    },
    {
      "cell_type": "markdown",
      "source": [
        "Для обучения по методу K ближайших соседей (KNN) был выбран датасет с классификацией типа звёзд c ресурса kaggle (Star Type Classification / NASA)\n",
        "\n",
        "В данном наборе данных присутствуют следующие столбцы:\n",
        "\n",
        "Temperature — температура звезды в Кельвинах;\\\n",
        "L (Luminosity) — светимость звезды в солнечных светимостях;\\\n",
        "R (Radius) — радиус звезды в радиусах солнца;\\\n",
        "A_M (Absolute Magnitude) — абсолютная звёздная величина;\\\n",
        "Color — цвет света звезды;\\\n",
        "Spectral_Class — спектральный класс звезды;\\\n",
        "Type — тип звезды. Является целевым признаком и уже закодирован:\n",
        "* Красный карлик — 0;\n",
        "* Коричневый карлик — 1;\n",
        "* Белый карлик — 2;\n",
        "* Звезда из главной последовательности — 3;\n",
        "* Супергигант — 4;\n",
        "* Гипергигант — 5."
      ],
      "metadata": {
        "id": "hbEwvJuu_GCc"
      }
    },
    {
      "cell_type": "markdown",
      "source": [
        "**Загрузка данных**"
      ],
      "metadata": {
        "id": "HNBayggm_-FI"
      }
    },
    {
      "cell_type": "code",
      "source": [
        "# Загрузка датасета\n",
        "data = pd.read_csv('Stars.csv')"
      ],
      "metadata": {
        "id": "511frlayADwn"
      },
      "execution_count": 3,
      "outputs": []
    },
    {
      "cell_type": "markdown",
      "source": [
        "#**Разведочный анализ**"
      ],
      "metadata": {
        "id": "XHRYrO_GAIuz"
      }
    },
    {
      "cell_type": "code",
      "source": [
        "# Первые пять строк датасета\n",
        "data.head()"
      ],
      "metadata": {
        "colab": {
          "base_uri": "https://localhost:8080/",
          "height": 206
        },
        "id": "i049g0lxAMe9",
        "outputId": "60d83274-3d59-4307-bce9-abb1f5364524"
      },
      "execution_count": 4,
      "outputs": [
        {
          "output_type": "execute_result",
          "data": {
            "text/plain": [
              "   Temperature         L       R    A_M Color Spectral_Class  Type\n",
              "0         3068  0.002400  0.1700  16.12   Red              M     0\n",
              "1         3042  0.000500  0.1542  16.60   Red              M     0\n",
              "2         2600  0.000300  0.1020  18.70   Red              M     0\n",
              "3         2800  0.000200  0.1600  16.65   Red              M     0\n",
              "4         1939  0.000138  0.1030  20.06   Red              M     0"
            ],
            "text/html": [
              "\n",
              "  <div id=\"df-e9048b1b-8280-4e15-b330-b4b4c61ed57f\">\n",
              "    <div class=\"colab-df-container\">\n",
              "      <div>\n",
              "<style scoped>\n",
              "    .dataframe tbody tr th:only-of-type {\n",
              "        vertical-align: middle;\n",
              "    }\n",
              "\n",
              "    .dataframe tbody tr th {\n",
              "        vertical-align: top;\n",
              "    }\n",
              "\n",
              "    .dataframe thead th {\n",
              "        text-align: right;\n",
              "    }\n",
              "</style>\n",
              "<table border=\"1\" class=\"dataframe\">\n",
              "  <thead>\n",
              "    <tr style=\"text-align: right;\">\n",
              "      <th></th>\n",
              "      <th>Temperature</th>\n",
              "      <th>L</th>\n",
              "      <th>R</th>\n",
              "      <th>A_M</th>\n",
              "      <th>Color</th>\n",
              "      <th>Spectral_Class</th>\n",
              "      <th>Type</th>\n",
              "    </tr>\n",
              "  </thead>\n",
              "  <tbody>\n",
              "    <tr>\n",
              "      <th>0</th>\n",
              "      <td>3068</td>\n",
              "      <td>0.002400</td>\n",
              "      <td>0.1700</td>\n",
              "      <td>16.12</td>\n",
              "      <td>Red</td>\n",
              "      <td>M</td>\n",
              "      <td>0</td>\n",
              "    </tr>\n",
              "    <tr>\n",
              "      <th>1</th>\n",
              "      <td>3042</td>\n",
              "      <td>0.000500</td>\n",
              "      <td>0.1542</td>\n",
              "      <td>16.60</td>\n",
              "      <td>Red</td>\n",
              "      <td>M</td>\n",
              "      <td>0</td>\n",
              "    </tr>\n",
              "    <tr>\n",
              "      <th>2</th>\n",
              "      <td>2600</td>\n",
              "      <td>0.000300</td>\n",
              "      <td>0.1020</td>\n",
              "      <td>18.70</td>\n",
              "      <td>Red</td>\n",
              "      <td>M</td>\n",
              "      <td>0</td>\n",
              "    </tr>\n",
              "    <tr>\n",
              "      <th>3</th>\n",
              "      <td>2800</td>\n",
              "      <td>0.000200</td>\n",
              "      <td>0.1600</td>\n",
              "      <td>16.65</td>\n",
              "      <td>Red</td>\n",
              "      <td>M</td>\n",
              "      <td>0</td>\n",
              "    </tr>\n",
              "    <tr>\n",
              "      <th>4</th>\n",
              "      <td>1939</td>\n",
              "      <td>0.000138</td>\n",
              "      <td>0.1030</td>\n",
              "      <td>20.06</td>\n",
              "      <td>Red</td>\n",
              "      <td>M</td>\n",
              "      <td>0</td>\n",
              "    </tr>\n",
              "  </tbody>\n",
              "</table>\n",
              "</div>\n",
              "      <button class=\"colab-df-convert\" onclick=\"convertToInteractive('df-e9048b1b-8280-4e15-b330-b4b4c61ed57f')\"\n",
              "              title=\"Convert this dataframe to an interactive table.\"\n",
              "              style=\"display:none;\">\n",
              "        \n",
              "  <svg xmlns=\"http://www.w3.org/2000/svg\" height=\"24px\"viewBox=\"0 0 24 24\"\n",
              "       width=\"24px\">\n",
              "    <path d=\"M0 0h24v24H0V0z\" fill=\"none\"/>\n",
              "    <path d=\"M18.56 5.44l.94 2.06.94-2.06 2.06-.94-2.06-.94-.94-2.06-.94 2.06-2.06.94zm-11 1L8.5 8.5l.94-2.06 2.06-.94-2.06-.94L8.5 2.5l-.94 2.06-2.06.94zm10 10l.94 2.06.94-2.06 2.06-.94-2.06-.94-.94-2.06-.94 2.06-2.06.94z\"/><path d=\"M17.41 7.96l-1.37-1.37c-.4-.4-.92-.59-1.43-.59-.52 0-1.04.2-1.43.59L10.3 9.45l-7.72 7.72c-.78.78-.78 2.05 0 2.83L4 21.41c.39.39.9.59 1.41.59.51 0 1.02-.2 1.41-.59l7.78-7.78 2.81-2.81c.8-.78.8-2.07 0-2.86zM5.41 20L4 18.59l7.72-7.72 1.47 1.35L5.41 20z\"/>\n",
              "  </svg>\n",
              "      </button>\n",
              "      \n",
              "  <style>\n",
              "    .colab-df-container {\n",
              "      display:flex;\n",
              "      flex-wrap:wrap;\n",
              "      gap: 12px;\n",
              "    }\n",
              "\n",
              "    .colab-df-convert {\n",
              "      background-color: #E8F0FE;\n",
              "      border: none;\n",
              "      border-radius: 50%;\n",
              "      cursor: pointer;\n",
              "      display: none;\n",
              "      fill: #1967D2;\n",
              "      height: 32px;\n",
              "      padding: 0 0 0 0;\n",
              "      width: 32px;\n",
              "    }\n",
              "\n",
              "    .colab-df-convert:hover {\n",
              "      background-color: #E2EBFA;\n",
              "      box-shadow: 0px 1px 2px rgba(60, 64, 67, 0.3), 0px 1px 3px 1px rgba(60, 64, 67, 0.15);\n",
              "      fill: #174EA6;\n",
              "    }\n",
              "\n",
              "    [theme=dark] .colab-df-convert {\n",
              "      background-color: #3B4455;\n",
              "      fill: #D2E3FC;\n",
              "    }\n",
              "\n",
              "    [theme=dark] .colab-df-convert:hover {\n",
              "      background-color: #434B5C;\n",
              "      box-shadow: 0px 1px 3px 1px rgba(0, 0, 0, 0.15);\n",
              "      filter: drop-shadow(0px 1px 2px rgba(0, 0, 0, 0.3));\n",
              "      fill: #FFFFFF;\n",
              "    }\n",
              "  </style>\n",
              "\n",
              "      <script>\n",
              "        const buttonEl =\n",
              "          document.querySelector('#df-e9048b1b-8280-4e15-b330-b4b4c61ed57f button.colab-df-convert');\n",
              "        buttonEl.style.display =\n",
              "          google.colab.kernel.accessAllowed ? 'block' : 'none';\n",
              "\n",
              "        async function convertToInteractive(key) {\n",
              "          const element = document.querySelector('#df-e9048b1b-8280-4e15-b330-b4b4c61ed57f');\n",
              "          const dataTable =\n",
              "            await google.colab.kernel.invokeFunction('convertToInteractive',\n",
              "                                                     [key], {});\n",
              "          if (!dataTable) return;\n",
              "\n",
              "          const docLinkHtml = 'Like what you see? Visit the ' +\n",
              "            '<a target=\"_blank\" href=https://colab.research.google.com/notebooks/data_table.ipynb>data table notebook</a>'\n",
              "            + ' to learn more about interactive tables.';\n",
              "          element.innerHTML = '';\n",
              "          dataTable['output_type'] = 'display_data';\n",
              "          await google.colab.output.renderOutput(dataTable, element);\n",
              "          const docLink = document.createElement('div');\n",
              "          docLink.innerHTML = docLinkHtml;\n",
              "          element.appendChild(docLink);\n",
              "        }\n",
              "      </script>\n",
              "    </div>\n",
              "  </div>\n",
              "  "
            ]
          },
          "metadata": {},
          "execution_count": 4
        }
      ]
    },
    {
      "cell_type": "code",
      "source": [
        "# Последние пять строк датасета\n",
        "data.tail()\n"
      ],
      "metadata": {
        "colab": {
          "base_uri": "https://localhost:8080/",
          "height": 206
        },
        "id": "w6vlWWIWARu5",
        "outputId": "b3f04c18-28a0-41ce-d906-9b11e39592cd"
      },
      "execution_count": 5,
      "outputs": [
        {
          "output_type": "execute_result",
          "data": {
            "text/plain": [
              "     Temperature         L       R    A_M  Color Spectral_Class  Type\n",
              "235        38940  374830.0  1356.0  -9.93   Blue              O     5\n",
              "236        30839  834042.0  1194.0 -10.63   Blue              O     5\n",
              "237         8829  537493.0  1423.0 -10.73  White              A     5\n",
              "238         9235  404940.0  1112.0 -11.23  White              A     5\n",
              "239        37882  294903.0  1783.0  -7.80   Blue              O     5"
            ],
            "text/html": [
              "\n",
              "  <div id=\"df-b77fb174-bd7f-4efa-8add-f856cd24955e\">\n",
              "    <div class=\"colab-df-container\">\n",
              "      <div>\n",
              "<style scoped>\n",
              "    .dataframe tbody tr th:only-of-type {\n",
              "        vertical-align: middle;\n",
              "    }\n",
              "\n",
              "    .dataframe tbody tr th {\n",
              "        vertical-align: top;\n",
              "    }\n",
              "\n",
              "    .dataframe thead th {\n",
              "        text-align: right;\n",
              "    }\n",
              "</style>\n",
              "<table border=\"1\" class=\"dataframe\">\n",
              "  <thead>\n",
              "    <tr style=\"text-align: right;\">\n",
              "      <th></th>\n",
              "      <th>Temperature</th>\n",
              "      <th>L</th>\n",
              "      <th>R</th>\n",
              "      <th>A_M</th>\n",
              "      <th>Color</th>\n",
              "      <th>Spectral_Class</th>\n",
              "      <th>Type</th>\n",
              "    </tr>\n",
              "  </thead>\n",
              "  <tbody>\n",
              "    <tr>\n",
              "      <th>235</th>\n",
              "      <td>38940</td>\n",
              "      <td>374830.0</td>\n",
              "      <td>1356.0</td>\n",
              "      <td>-9.93</td>\n",
              "      <td>Blue</td>\n",
              "      <td>O</td>\n",
              "      <td>5</td>\n",
              "    </tr>\n",
              "    <tr>\n",
              "      <th>236</th>\n",
              "      <td>30839</td>\n",
              "      <td>834042.0</td>\n",
              "      <td>1194.0</td>\n",
              "      <td>-10.63</td>\n",
              "      <td>Blue</td>\n",
              "      <td>O</td>\n",
              "      <td>5</td>\n",
              "    </tr>\n",
              "    <tr>\n",
              "      <th>237</th>\n",
              "      <td>8829</td>\n",
              "      <td>537493.0</td>\n",
              "      <td>1423.0</td>\n",
              "      <td>-10.73</td>\n",
              "      <td>White</td>\n",
              "      <td>A</td>\n",
              "      <td>5</td>\n",
              "    </tr>\n",
              "    <tr>\n",
              "      <th>238</th>\n",
              "      <td>9235</td>\n",
              "      <td>404940.0</td>\n",
              "      <td>1112.0</td>\n",
              "      <td>-11.23</td>\n",
              "      <td>White</td>\n",
              "      <td>A</td>\n",
              "      <td>5</td>\n",
              "    </tr>\n",
              "    <tr>\n",
              "      <th>239</th>\n",
              "      <td>37882</td>\n",
              "      <td>294903.0</td>\n",
              "      <td>1783.0</td>\n",
              "      <td>-7.80</td>\n",
              "      <td>Blue</td>\n",
              "      <td>O</td>\n",
              "      <td>5</td>\n",
              "    </tr>\n",
              "  </tbody>\n",
              "</table>\n",
              "</div>\n",
              "      <button class=\"colab-df-convert\" onclick=\"convertToInteractive('df-b77fb174-bd7f-4efa-8add-f856cd24955e')\"\n",
              "              title=\"Convert this dataframe to an interactive table.\"\n",
              "              style=\"display:none;\">\n",
              "        \n",
              "  <svg xmlns=\"http://www.w3.org/2000/svg\" height=\"24px\"viewBox=\"0 0 24 24\"\n",
              "       width=\"24px\">\n",
              "    <path d=\"M0 0h24v24H0V0z\" fill=\"none\"/>\n",
              "    <path d=\"M18.56 5.44l.94 2.06.94-2.06 2.06-.94-2.06-.94-.94-2.06-.94 2.06-2.06.94zm-11 1L8.5 8.5l.94-2.06 2.06-.94-2.06-.94L8.5 2.5l-.94 2.06-2.06.94zm10 10l.94 2.06.94-2.06 2.06-.94-2.06-.94-.94-2.06-.94 2.06-2.06.94z\"/><path d=\"M17.41 7.96l-1.37-1.37c-.4-.4-.92-.59-1.43-.59-.52 0-1.04.2-1.43.59L10.3 9.45l-7.72 7.72c-.78.78-.78 2.05 0 2.83L4 21.41c.39.39.9.59 1.41.59.51 0 1.02-.2 1.41-.59l7.78-7.78 2.81-2.81c.8-.78.8-2.07 0-2.86zM5.41 20L4 18.59l7.72-7.72 1.47 1.35L5.41 20z\"/>\n",
              "  </svg>\n",
              "      </button>\n",
              "      \n",
              "  <style>\n",
              "    .colab-df-container {\n",
              "      display:flex;\n",
              "      flex-wrap:wrap;\n",
              "      gap: 12px;\n",
              "    }\n",
              "\n",
              "    .colab-df-convert {\n",
              "      background-color: #E8F0FE;\n",
              "      border: none;\n",
              "      border-radius: 50%;\n",
              "      cursor: pointer;\n",
              "      display: none;\n",
              "      fill: #1967D2;\n",
              "      height: 32px;\n",
              "      padding: 0 0 0 0;\n",
              "      width: 32px;\n",
              "    }\n",
              "\n",
              "    .colab-df-convert:hover {\n",
              "      background-color: #E2EBFA;\n",
              "      box-shadow: 0px 1px 2px rgba(60, 64, 67, 0.3), 0px 1px 3px 1px rgba(60, 64, 67, 0.15);\n",
              "      fill: #174EA6;\n",
              "    }\n",
              "\n",
              "    [theme=dark] .colab-df-convert {\n",
              "      background-color: #3B4455;\n",
              "      fill: #D2E3FC;\n",
              "    }\n",
              "\n",
              "    [theme=dark] .colab-df-convert:hover {\n",
              "      background-color: #434B5C;\n",
              "      box-shadow: 0px 1px 3px 1px rgba(0, 0, 0, 0.15);\n",
              "      filter: drop-shadow(0px 1px 2px rgba(0, 0, 0, 0.3));\n",
              "      fill: #FFFFFF;\n",
              "    }\n",
              "  </style>\n",
              "\n",
              "      <script>\n",
              "        const buttonEl =\n",
              "          document.querySelector('#df-b77fb174-bd7f-4efa-8add-f856cd24955e button.colab-df-convert');\n",
              "        buttonEl.style.display =\n",
              "          google.colab.kernel.accessAllowed ? 'block' : 'none';\n",
              "\n",
              "        async function convertToInteractive(key) {\n",
              "          const element = document.querySelector('#df-b77fb174-bd7f-4efa-8add-f856cd24955e');\n",
              "          const dataTable =\n",
              "            await google.colab.kernel.invokeFunction('convertToInteractive',\n",
              "                                                     [key], {});\n",
              "          if (!dataTable) return;\n",
              "\n",
              "          const docLinkHtml = 'Like what you see? Visit the ' +\n",
              "            '<a target=\"_blank\" href=https://colab.research.google.com/notebooks/data_table.ipynb>data table notebook</a>'\n",
              "            + ' to learn more about interactive tables.';\n",
              "          element.innerHTML = '';\n",
              "          dataTable['output_type'] = 'display_data';\n",
              "          await google.colab.output.renderOutput(dataTable, element);\n",
              "          const docLink = document.createElement('div');\n",
              "          docLink.innerHTML = docLinkHtml;\n",
              "          element.appendChild(docLink);\n",
              "        }\n",
              "      </script>\n",
              "    </div>\n",
              "  </div>\n",
              "  "
            ]
          },
          "metadata": {},
          "execution_count": 5
        }
      ]
    },
    {
      "cell_type": "code",
      "source": [
        "# Размер датасета\n",
        "data.shape"
      ],
      "metadata": {
        "colab": {
          "base_uri": "https://localhost:8080/"
        },
        "id": "ZicUBjhbAWkU",
        "outputId": "64f35ae4-f0c9-40c7-e7f0-ec396282ab63"
      },
      "execution_count": 6,
      "outputs": [
        {
          "output_type": "execute_result",
          "data": {
            "text/plain": [
              "(240, 7)"
            ]
          },
          "metadata": {},
          "execution_count": 6
        }
      ]
    },
    {
      "cell_type": "code",
      "source": [
        "# Типы столбцов\n",
        "data.dtypes"
      ],
      "metadata": {
        "colab": {
          "base_uri": "https://localhost:8080/"
        },
        "id": "z1xRz2HZAZNO",
        "outputId": "0541798e-46aa-4154-ddc4-6140cee8b02a"
      },
      "execution_count": 7,
      "outputs": [
        {
          "output_type": "execute_result",
          "data": {
            "text/plain": [
              "Temperature         int64\n",
              "L                 float64\n",
              "R                 float64\n",
              "A_M               float64\n",
              "Color              object\n",
              "Spectral_Class     object\n",
              "Type                int64\n",
              "dtype: object"
            ]
          },
          "metadata": {},
          "execution_count": 7
        }
      ]
    },
    {
      "cell_type": "code",
      "source": [
        "# Пустые значения\n",
        "data.isnull().sum()"
      ],
      "metadata": {
        "colab": {
          "base_uri": "https://localhost:8080/"
        },
        "id": "hRSLXi3XAeZo",
        "outputId": "26bc3d88-6680-4af9-f780-49af830f5579"
      },
      "execution_count": 8,
      "outputs": [
        {
          "output_type": "execute_result",
          "data": {
            "text/plain": [
              "Temperature       0\n",
              "L                 0\n",
              "R                 0\n",
              "A_M               0\n",
              "Color             0\n",
              "Spectral_Class    0\n",
              "Type              0\n",
              "dtype: int64"
            ]
          },
          "metadata": {},
          "execution_count": 8
        }
      ]
    },
    {
      "cell_type": "code",
      "source": [
        "# Дублирующиеся значения\n",
        "data.duplicated().sum()"
      ],
      "metadata": {
        "colab": {
          "base_uri": "https://localhost:8080/"
        },
        "id": "I4qCwoqCAhZR",
        "outputId": "6bb9bc3e-136a-4b81-c215-0faefe260441"
      },
      "execution_count": 9,
      "outputs": [
        {
          "output_type": "execute_result",
          "data": {
            "text/plain": [
              "0"
            ]
          },
          "metadata": {},
          "execution_count": 9
        }
      ]
    },
    {
      "cell_type": "code",
      "source": [
        "# Статистические характеристки датасета\n",
        "data.describe()"
      ],
      "metadata": {
        "colab": {
          "base_uri": "https://localhost:8080/",
          "height": 300
        },
        "id": "_2OzcNUMAvnV",
        "outputId": "f54e4ed0-d312-4652-b0f6-bf7e45738772"
      },
      "execution_count": 10,
      "outputs": [
        {
          "output_type": "execute_result",
          "data": {
            "text/plain": [
              "        Temperature              L            R         A_M        Type\n",
              "count    240.000000     240.000000   240.000000  240.000000  240.000000\n",
              "mean   10497.462500  107188.361635   237.157781    4.382396    2.500000\n",
              "std     9552.425037  179432.244940   517.155763   10.532512    1.711394\n",
              "min     1939.000000       0.000080     0.008400  -11.920000    0.000000\n",
              "25%     3344.250000       0.000865     0.102750   -6.232500    1.000000\n",
              "50%     5776.000000       0.070500     0.762500    8.313000    2.500000\n",
              "75%    15055.500000  198050.000000    42.750000   13.697500    4.000000\n",
              "max    40000.000000  849420.000000  1948.500000   20.060000    5.000000"
            ],
            "text/html": [
              "\n",
              "  <div id=\"df-697bfd7a-f6e2-4daf-a38e-83a0c35d9078\">\n",
              "    <div class=\"colab-df-container\">\n",
              "      <div>\n",
              "<style scoped>\n",
              "    .dataframe tbody tr th:only-of-type {\n",
              "        vertical-align: middle;\n",
              "    }\n",
              "\n",
              "    .dataframe tbody tr th {\n",
              "        vertical-align: top;\n",
              "    }\n",
              "\n",
              "    .dataframe thead th {\n",
              "        text-align: right;\n",
              "    }\n",
              "</style>\n",
              "<table border=\"1\" class=\"dataframe\">\n",
              "  <thead>\n",
              "    <tr style=\"text-align: right;\">\n",
              "      <th></th>\n",
              "      <th>Temperature</th>\n",
              "      <th>L</th>\n",
              "      <th>R</th>\n",
              "      <th>A_M</th>\n",
              "      <th>Type</th>\n",
              "    </tr>\n",
              "  </thead>\n",
              "  <tbody>\n",
              "    <tr>\n",
              "      <th>count</th>\n",
              "      <td>240.000000</td>\n",
              "      <td>240.000000</td>\n",
              "      <td>240.000000</td>\n",
              "      <td>240.000000</td>\n",
              "      <td>240.000000</td>\n",
              "    </tr>\n",
              "    <tr>\n",
              "      <th>mean</th>\n",
              "      <td>10497.462500</td>\n",
              "      <td>107188.361635</td>\n",
              "      <td>237.157781</td>\n",
              "      <td>4.382396</td>\n",
              "      <td>2.500000</td>\n",
              "    </tr>\n",
              "    <tr>\n",
              "      <th>std</th>\n",
              "      <td>9552.425037</td>\n",
              "      <td>179432.244940</td>\n",
              "      <td>517.155763</td>\n",
              "      <td>10.532512</td>\n",
              "      <td>1.711394</td>\n",
              "    </tr>\n",
              "    <tr>\n",
              "      <th>min</th>\n",
              "      <td>1939.000000</td>\n",
              "      <td>0.000080</td>\n",
              "      <td>0.008400</td>\n",
              "      <td>-11.920000</td>\n",
              "      <td>0.000000</td>\n",
              "    </tr>\n",
              "    <tr>\n",
              "      <th>25%</th>\n",
              "      <td>3344.250000</td>\n",
              "      <td>0.000865</td>\n",
              "      <td>0.102750</td>\n",
              "      <td>-6.232500</td>\n",
              "      <td>1.000000</td>\n",
              "    </tr>\n",
              "    <tr>\n",
              "      <th>50%</th>\n",
              "      <td>5776.000000</td>\n",
              "      <td>0.070500</td>\n",
              "      <td>0.762500</td>\n",
              "      <td>8.313000</td>\n",
              "      <td>2.500000</td>\n",
              "    </tr>\n",
              "    <tr>\n",
              "      <th>75%</th>\n",
              "      <td>15055.500000</td>\n",
              "      <td>198050.000000</td>\n",
              "      <td>42.750000</td>\n",
              "      <td>13.697500</td>\n",
              "      <td>4.000000</td>\n",
              "    </tr>\n",
              "    <tr>\n",
              "      <th>max</th>\n",
              "      <td>40000.000000</td>\n",
              "      <td>849420.000000</td>\n",
              "      <td>1948.500000</td>\n",
              "      <td>20.060000</td>\n",
              "      <td>5.000000</td>\n",
              "    </tr>\n",
              "  </tbody>\n",
              "</table>\n",
              "</div>\n",
              "      <button class=\"colab-df-convert\" onclick=\"convertToInteractive('df-697bfd7a-f6e2-4daf-a38e-83a0c35d9078')\"\n",
              "              title=\"Convert this dataframe to an interactive table.\"\n",
              "              style=\"display:none;\">\n",
              "        \n",
              "  <svg xmlns=\"http://www.w3.org/2000/svg\" height=\"24px\"viewBox=\"0 0 24 24\"\n",
              "       width=\"24px\">\n",
              "    <path d=\"M0 0h24v24H0V0z\" fill=\"none\"/>\n",
              "    <path d=\"M18.56 5.44l.94 2.06.94-2.06 2.06-.94-2.06-.94-.94-2.06-.94 2.06-2.06.94zm-11 1L8.5 8.5l.94-2.06 2.06-.94-2.06-.94L8.5 2.5l-.94 2.06-2.06.94zm10 10l.94 2.06.94-2.06 2.06-.94-2.06-.94-.94-2.06-.94 2.06-2.06.94z\"/><path d=\"M17.41 7.96l-1.37-1.37c-.4-.4-.92-.59-1.43-.59-.52 0-1.04.2-1.43.59L10.3 9.45l-7.72 7.72c-.78.78-.78 2.05 0 2.83L4 21.41c.39.39.9.59 1.41.59.51 0 1.02-.2 1.41-.59l7.78-7.78 2.81-2.81c.8-.78.8-2.07 0-2.86zM5.41 20L4 18.59l7.72-7.72 1.47 1.35L5.41 20z\"/>\n",
              "  </svg>\n",
              "      </button>\n",
              "      \n",
              "  <style>\n",
              "    .colab-df-container {\n",
              "      display:flex;\n",
              "      flex-wrap:wrap;\n",
              "      gap: 12px;\n",
              "    }\n",
              "\n",
              "    .colab-df-convert {\n",
              "      background-color: #E8F0FE;\n",
              "      border: none;\n",
              "      border-radius: 50%;\n",
              "      cursor: pointer;\n",
              "      display: none;\n",
              "      fill: #1967D2;\n",
              "      height: 32px;\n",
              "      padding: 0 0 0 0;\n",
              "      width: 32px;\n",
              "    }\n",
              "\n",
              "    .colab-df-convert:hover {\n",
              "      background-color: #E2EBFA;\n",
              "      box-shadow: 0px 1px 2px rgba(60, 64, 67, 0.3), 0px 1px 3px 1px rgba(60, 64, 67, 0.15);\n",
              "      fill: #174EA6;\n",
              "    }\n",
              "\n",
              "    [theme=dark] .colab-df-convert {\n",
              "      background-color: #3B4455;\n",
              "      fill: #D2E3FC;\n",
              "    }\n",
              "\n",
              "    [theme=dark] .colab-df-convert:hover {\n",
              "      background-color: #434B5C;\n",
              "      box-shadow: 0px 1px 3px 1px rgba(0, 0, 0, 0.15);\n",
              "      filter: drop-shadow(0px 1px 2px rgba(0, 0, 0, 0.3));\n",
              "      fill: #FFFFFF;\n",
              "    }\n",
              "  </style>\n",
              "\n",
              "      <script>\n",
              "        const buttonEl =\n",
              "          document.querySelector('#df-697bfd7a-f6e2-4daf-a38e-83a0c35d9078 button.colab-df-convert');\n",
              "        buttonEl.style.display =\n",
              "          google.colab.kernel.accessAllowed ? 'block' : 'none';\n",
              "\n",
              "        async function convertToInteractive(key) {\n",
              "          const element = document.querySelector('#df-697bfd7a-f6e2-4daf-a38e-83a0c35d9078');\n",
              "          const dataTable =\n",
              "            await google.colab.kernel.invokeFunction('convertToInteractive',\n",
              "                                                     [key], {});\n",
              "          if (!dataTable) return;\n",
              "\n",
              "          const docLinkHtml = 'Like what you see? Visit the ' +\n",
              "            '<a target=\"_blank\" href=https://colab.research.google.com/notebooks/data_table.ipynb>data table notebook</a>'\n",
              "            + ' to learn more about interactive tables.';\n",
              "          element.innerHTML = '';\n",
              "          dataTable['output_type'] = 'display_data';\n",
              "          await google.colab.output.renderOutput(dataTable, element);\n",
              "          const docLink = document.createElement('div');\n",
              "          docLink.innerHTML = docLinkHtml;\n",
              "          element.appendChild(docLink);\n",
              "        }\n",
              "      </script>\n",
              "    </div>\n",
              "  </div>\n",
              "  "
            ]
          },
          "metadata": {},
          "execution_count": 10
        }
      ]
    },
    {
      "cell_type": "code",
      "source": [
        "# Тепловая карта корреляционной матрицы\n",
        "plt.figure(figsize=(10,8))\n",
        "sns.heatmap(data=data.corr(), annot=True, fmt='.3f', cmap='magma')\n",
        "plt.show()"
      ],
      "metadata": {
        "colab": {
          "base_uri": "https://localhost:8080/",
          "height": 490
        },
        "id": "s4tBpyf5A9uv",
        "outputId": "ac6112cd-faeb-4e41-db70-b939cf5c86ec"
      },
      "execution_count": 11,
      "outputs": [
        {
          "output_type": "display_data",
          "data": {
            "text/plain": [
              "<Figure size 720x576 with 2 Axes>"
            ],
            "image/png": "[encoded data removed]"
          },
          "metadata": {}
        }
      ]
    },
    {
      "cell_type": "code",
      "source": [
        "# Диаграмма рассеивания абсолютной звёздной величины и типа звезды\n",
        "with sns.axes_style('whitegrid'):\n",
        "    sns.scatterplot(data=data, x='A_M', y='Type', hue='Type', size='Type', palette='magma')\n",
        "    plt.show()"
      ],
      "metadata": {
        "colab": {
          "base_uri": "https://localhost:8080/",
          "height": 285
        },
        "id": "lG0Rm1KzCy3R",
        "outputId": "47985350-67ba-461f-e3b8-c60b849a2253"
      },
      "execution_count": 12,
      "outputs": [
        {
          "output_type": "display_data",
          "data": {
            "text/plain": [
              "<Figure size 432x288 with 1 Axes>"
            ],
            "image/png": "[encoded data removed]"
          },
          "metadata": {}
        }
      ]
    },
    {
      "cell_type": "code",
      "source": [
        "# График распределения типов звёзд\n",
        "with sns.axes_style('whitegrid'):\n",
        "    sns.countplot(data=data, x='Type', palette='magma')\n",
        "    plt.show()"
      ],
      "metadata": {
        "colab": {
          "base_uri": "https://localhost:8080/",
          "height": 285
        },
        "id": "2FtbpHyPDjXQ",
        "outputId": "b8b35ecb-a855-42ce-9bf3-275e91b7f4b0"
      },
      "execution_count": 13,
      "outputs": [
        {
          "output_type": "display_data",
          "data": {
            "text/plain": [
              "<Figure size 432x288 with 1 Axes>"
            ],
            "image/png": "[encoded data removed]"
          },
          "metadata": {}
        }
      ]
    },
    {
      "cell_type": "markdown",
      "source": [
        "# **Обработка данных**"
      ],
      "metadata": {
        "id": "wQRrQEhuDsf6"
      }
    },
    {
      "cell_type": "code",
      "source": [
        "# Значение в столбце Color\n",
        "data['Color'].value_counts()"
      ],
      "metadata": {
        "colab": {
          "base_uri": "https://localhost:8080/"
        },
        "id": "tqUKdKqxEAXZ",
        "outputId": "bb65804f-7134-4e50-86e2-5f7fef67fead"
      },
      "execution_count": 14,
      "outputs": [
        {
          "output_type": "execute_result",
          "data": {
            "text/plain": [
              "Red                   112\n",
              "Blue                   56\n",
              "Blue-white             26\n",
              "Blue White             10\n",
              "yellow-white            8\n",
              "White                   7\n",
              "Blue white              4\n",
              "white                   3\n",
              "Yellowish White         3\n",
              "yellowish               2\n",
              "Whitish                 2\n",
              "Orange                  2\n",
              "White-Yellow            1\n",
              "Pale yellow orange      1\n",
              "Yellowish               1\n",
              "Orange-Red              1\n",
              "Blue-White              1\n",
              "Name: Color, dtype: int64"
            ]
          },
          "metadata": {},
          "execution_count": 14
        }
      ]
    },
    {
      "cell_type": "markdown",
      "source": [
        "Как видно из таблице у нас есть часть значений, которые по факту являются одним и тем же. Например, White и white.\n",
        "\n",
        "Обработаем данные значения"
      ],
      "metadata": {
        "id": "pOENTBT4EEJ3"
      }
    },
    {
      "cell_type": "code",
      "source": [
        "colors = ['Blue-white', 'Blue White', 'Blue white', 'yellow-white', 'Yellowish White', 'yellowish', 'Yellowish', 'White-Yellow',\n",
        "          'white', 'Whitish', 'Pale yellow orange', 'Orange-Red']\n",
        "\n",
        "# Замена цветов\n",
        "for i in range(len(data['Color'])):\n",
        "    if data['Color'][i] in colors [:3]:\n",
        "        data.loc[i, 'Color'] = 'Blue-White'\n",
        "    elif data['Color'][i] in colors [3:8]:\n",
        "        data.loc[i, 'Color'] = 'Yellow-White'\n",
        "    elif data['Color'][i] in colors [8:10]:\n",
        "        data.loc[i, 'Color'] = 'White'\n",
        "    elif data['Color'][i] in colors [10:]:\n",
        "        data.loc[i, 'Color'] = 'Orange'"
      ],
      "metadata": {
        "id": "656tZUOyEGhi"
      },
      "execution_count": 15,
      "outputs": []
    },
    {
      "cell_type": "code",
      "source": [
        "# Проверка замены цветов\n",
        "data['Color'].value_counts()"
      ],
      "metadata": {
        "colab": {
          "base_uri": "https://localhost:8080/"
        },
        "id": "kFR-wlhTEKSs",
        "outputId": "d5573288-89c4-4ea4-cd06-82c166bd08b5"
      },
      "execution_count": 16,
      "outputs": [
        {
          "output_type": "execute_result",
          "data": {
            "text/plain": [
              "Red             112\n",
              "Blue             56\n",
              "Blue-White       41\n",
              "Yellow-White     15\n",
              "White            12\n",
              "Orange            4\n",
              "Name: Color, dtype: int64"
            ]
          },
          "metadata": {},
          "execution_count": 16
        }
      ]
    },
    {
      "cell_type": "code",
      "source": [
        "# График количества цветов\n",
        "with sns.axes_style('whitegrid'):\n",
        "    sns.countplot(data=data, x='Color', palette='magma')\n",
        "    plt.show()\n"
      ],
      "metadata": {
        "colab": {
          "base_uri": "https://localhost:8080/",
          "height": 285
        },
        "id": "ZVpm1uk0EQMo",
        "outputId": "6573ab00-cc46-4c7f-9484-267246068c34"
      },
      "execution_count": 17,
      "outputs": [
        {
          "output_type": "display_data",
          "data": {
            "text/plain": [
              "<Figure size 432x288 with 1 Axes>"
            ],
            "image/png": "[encoded data removed]"
          },
          "metadata": {}
        }
      ]
    },
    {
      "cell_type": "markdown",
      "source": [
        "**Кодирование категориальных признаков**"
      ],
      "metadata": {
        "id": "UfktFu4DE4SB"
      }
    },
    {
      "cell_type": "code",
      "source": [
        "# One-hot кодирование признаков Color и Spectral_Class, поскольку нам не нужно вность отношение порядка\n",
        "data_encoded = pd.get_dummies(data, columns=['Color', 'Spectral_Class'])\n",
        "\n",
        "data_encoded.head()"
      ],
      "metadata": {
        "colab": {
          "base_uri": "https://localhost:8080/",
          "height": 287
        },
        "id": "nCteDKlOFAgy",
        "outputId": "027ac3b7-9921-4cd3-eb59-287957e33851"
      },
      "execution_count": 18,
      "outputs": [
        {
          "output_type": "execute_result",
          "data": {
            "text/plain": [
              "   Temperature         L       R    A_M  Type  Color_Blue  Color_Blue-White  \\\n",
              "0         3068  0.002400  0.1700  16.12     0           0                 0   \n",
              "1         3042  0.000500  0.1542  16.60     0           0                 0   \n",
              "2         2600  0.000300  0.1020  18.70     0           0                 0   \n",
              "3         2800  0.000200  0.1600  16.65     0           0                 0   \n",
              "4         1939  0.000138  0.1030  20.06     0           0                 0   \n",
              "\n",
              "   Color_Orange  Color_Red  Color_White  Color_Yellow-White  Spectral_Class_A  \\\n",
              "0             0          1            0                   0                 0   \n",
              "1             0          1            0                   0                 0   \n",
              "2             0          1            0                   0                 0   \n",
              "3             0          1            0                   0                 0   \n",
              "4             0          1            0                   0                 0   \n",
              "\n",
              "   Spectral_Class_B  Spectral_Class_F  Spectral_Class_G  Spectral_Class_K  \\\n",
              "0                 0                 0                 0                 0   \n",
              "1                 0                 0                 0                 0   \n",
              "2                 0                 0                 0                 0   \n",
              "3                 0                 0                 0                 0   \n",
              "4                 0                 0                 0                 0   \n",
              "\n",
              "   Spectral_Class_M  Spectral_Class_O  \n",
              "0                 1                 0  \n",
              "1                 1                 0  \n",
              "2                 1                 0  \n",
              "3                 1                 0  \n",
              "4                 1                 0  "
            ],
            "text/html": [
              "\n",
              "  <div id=\"df-5bd9aa3b-e0f2-4d12-abe5-2a73b3549a40\">\n",
              "    <div class=\"colab-df-container\">\n",
              "      <div>\n",
              "<style scoped>\n",
              "    .dataframe tbody tr th:only-of-type {\n",
              "        vertical-align: middle;\n",
              "    }\n",
              "\n",
              "    .dataframe tbody tr th {\n",
              "        vertical-align: top;\n",
              "    }\n",
              "\n",
              "    .dataframe thead th {\n",
              "        text-align: right;\n",
              "    }\n",
              "</style>\n",
              "<table border=\"1\" class=\"dataframe\">\n",
              "  <thead>\n",
              "    <tr style=\"text-align: right;\">\n",
              "      <th></th>\n",
              "      <th>Temperature</th>\n",
              "      <th>L</th>\n",
              "      <th>R</th>\n",
              "      <th>A_M</th>\n",
              "      <th>Type</th>\n",
              "      <th>Color_Blue</th>\n",
              "      <th>Color_Blue-White</th>\n",
              "      <th>Color_Orange</th>\n",
              "      <th>Color_Red</th>\n",
              "      <th>Color_White</th>\n",
              "      <th>Color_Yellow-White</th>\n",
              "      <th>Spectral_Class_A</th>\n",
              "      <th>Spectral_Class_B</th>\n",
              "      <th>Spectral_Class_F</th>\n",
              "      <th>Spectral_Class_G</th>\n",
              "      <th>Spectral_Class_K</th>\n",
              "      <th>Spectral_Class_M</th>\n",
              "      <th>Spectral_Class_O</th>\n",
              "    </tr>\n",
              "  </thead>\n",
              "  <tbody>\n",
              "    <tr>\n",
              "      <th>0</th>\n",
              "      <td>3068</td>\n",
              "      <td>0.002400</td>\n",
              "      <td>0.1700</td>\n",
              "      <td>16.12</td>\n",
              "      <td>0</td>\n",
              "      <td>0</td>\n",
              "      <td>0</td>\n",
              "      <td>0</td>\n",
              "      <td>1</td>\n",
              "      <td>0</td>\n",
              "      <td>0</td>\n",
              "      <td>0</td>\n",
              "      <td>0</td>\n",
              "      <td>0</td>\n",
              "      <td>0</td>\n",
              "      <td>0</td>\n",
              "      <td>1</td>\n",
              "      <td>0</td>\n",
              "    </tr>\n",
              "    <tr>\n",
              "      <th>1</th>\n",
              "      <td>3042</td>\n",
              "      <td>0.000500</td>\n",
              "      <td>0.1542</td>\n",
              "      <td>16.60</td>\n",
              "      <td>0</td>\n",
              "      <td>0</td>\n",
              "      <td>0</td>\n",
              "      <td>0</td>\n",
              "      <td>1</td>\n",
              "      <td>0</td>\n",
              "      <td>0</td>\n",
              "      <td>0</td>\n",
              "      <td>0</td>\n",
              "      <td>0</td>\n",
              "      <td>0</td>\n",
              "      <td>0</td>\n",
              "      <td>1</td>\n",
              "      <td>0</td>\n",
              "    </tr>\n",
              "    <tr>\n",
              "      <th>2</th>\n",
              "      <td>2600</td>\n",
              "      <td>0.000300</td>\n",
              "      <td>0.1020</td>\n",
              "      <td>18.70</td>\n",
              "      <td>0</td>\n",
              "      <td>0</td>\n",
              "      <td>0</td>\n",
              "      <td>0</td>\n",
              "      <td>1</td>\n",
              "      <td>0</td>\n",
              "      <td>0</td>\n",
              "      <td>0</td>\n",
              "      <td>0</td>\n",
              "      <td>0</td>\n",
              "      <td>0</td>\n",
              "      <td>0</td>\n",
              "      <td>1</td>\n",
              "      <td>0</td>\n",
              "    </tr>\n",
              "    <tr>\n",
              "      <th>3</th>\n",
              "      <td>2800</td>\n",
              "      <td>0.000200</td>\n",
              "      <td>0.1600</td>\n",
              "      <td>16.65</td>\n",
              "      <td>0</td>\n",
              "      <td>0</td>\n",
              "      <td>0</td>\n",
              "      <td>0</td>\n",
              "      <td>1</td>\n",
              "      <td>0</td>\n",
              "      <td>0</td>\n",
              "      <td>0</td>\n",
              "      <td>0</td>\n",
              "      <td>0</td>\n",
              "      <td>0</td>\n",
              "      <td>0</td>\n",
              "      <td>1</td>\n",
              "      <td>0</td>\n",
              "    </tr>\n",
              "    <tr>\n",
              "      <th>4</th>\n",
              "      <td>1939</td>\n",
              "      <td>0.000138</td>\n",
              "      <td>0.1030</td>\n",
              "      <td>20.06</td>\n",
              "      <td>0</td>\n",
              "      <td>0</td>\n",
              "      <td>0</td>\n",
              "      <td>0</td>\n",
              "      <td>1</td>\n",
              "      <td>0</td>\n",
              "      <td>0</td>\n",
              "      <td>0</td>\n",
              "      <td>0</td>\n",
              "      <td>0</td>\n",
              "      <td>0</td>\n",
              "      <td>0</td>\n",
              "      <td>1</td>\n",
              "      <td>0</td>\n",
              "    </tr>\n",
              "  </tbody>\n",
              "</table>\n",
              "</div>\n",
              "      <button class=\"colab-df-convert\" onclick=\"convertToInteractive('df-5bd9aa3b-e0f2-4d12-abe5-2a73b3549a40')\"\n",
              "              title=\"Convert this dataframe to an interactive table.\"\n",
              "              style=\"display:none;\">\n",
              "        \n",
              "  <svg xmlns=\"http://www.w3.org/2000/svg\" height=\"24px\"viewBox=\"0 0 24 24\"\n",
              "       width=\"24px\">\n",
              "    <path d=\"M0 0h24v24H0V0z\" fill=\"none\"/>\n",
              "    <path d=\"M18.56 5.44l.94 2.06.94-2.06 2.06-.94-2.06-.94-.94-2.06-.94 2.06-2.06.94zm-11 1L8.5 8.5l.94-2.06 2.06-.94-2.06-.94L8.5 2.5l-.94 2.06-2.06.94zm10 10l.94 2.06.94-2.06 2.06-.94-2.06-.94-.94-2.06-.94 2.06-2.06.94z\"/><path d=\"M17.41 7.96l-1.37-1.37c-.4-.4-.92-.59-1.43-.59-.52 0-1.04.2-1.43.59L10.3 9.45l-7.72 7.72c-.78.78-.78 2.05 0 2.83L4 21.41c.39.39.9.59 1.41.59.51 0 1.02-.2 1.41-.59l7.78-7.78 2.81-2.81c.8-.78.8-2.07 0-2.86zM5.41 20L4 18.59l7.72-7.72 1.47 1.35L5.41 20z\"/>\n",
              "  </svg>\n",
              "      </button>\n",
              "      \n",
              "  <style>\n",
              "    .colab-df-container {\n",
              "      display:flex;\n",
              "      flex-wrap:wrap;\n",
              "      gap: 12px;\n",
              "    }\n",
              "\n",
              "    .colab-df-convert {\n",
              "      background-color: #E8F0FE;\n",
              "      border: none;\n",
              "      border-radius: 50%;\n",
              "      cursor: pointer;\n",
              "      display: none;\n",
              "      fill: #1967D2;\n",
              "      height: 32px;\n",
              "      padding: 0 0 0 0;\n",
              "      width: 32px;\n",
              "    }\n",
              "\n",
              "    .colab-df-convert:hover {\n",
              "      background-color: #E2EBFA;\n",
              "      box-shadow: 0px 1px 2px rgba(60, 64, 67, 0.3), 0px 1px 3px 1px rgba(60, 64, 67, 0.15);\n",
              "      fill: #174EA6;\n",
              "    }\n",
              "\n",
              "    [theme=dark] .colab-df-convert {\n",
              "      background-color: #3B4455;\n",
              "      fill: #D2E3FC;\n",
              "    }\n",
              "\n",
              "    [theme=dark] .colab-df-convert:hover {\n",
              "      background-color: #434B5C;\n",
              "      box-shadow: 0px 1px 3px 1px rgba(0, 0, 0, 0.15);\n",
              "      filter: drop-shadow(0px 1px 2px rgba(0, 0, 0, 0.3));\n",
              "      fill: #FFFFFF;\n",
              "    }\n",
              "  </style>\n",
              "\n",
              "      <script>\n",
              "        const buttonEl =\n",
              "          document.querySelector('#df-5bd9aa3b-e0f2-4d12-abe5-2a73b3549a40 button.colab-df-convert');\n",
              "        buttonEl.style.display =\n",
              "          google.colab.kernel.accessAllowed ? 'block' : 'none';\n",
              "\n",
              "        async function convertToInteractive(key) {\n",
              "          const element = document.querySelector('#df-5bd9aa3b-e0f2-4d12-abe5-2a73b3549a40');\n",
              "          const dataTable =\n",
              "            await google.colab.kernel.invokeFunction('convertToInteractive',\n",
              "                                                     [key], {});\n",
              "          if (!dataTable) return;\n",
              "\n",
              "          const docLinkHtml = 'Like what you see? Visit the ' +\n",
              "            '<a target=\"_blank\" href=https://colab.research.google.com/notebooks/data_table.ipynb>data table notebook</a>'\n",
              "            + ' to learn more about interactive tables.';\n",
              "          element.innerHTML = '';\n",
              "          dataTable['output_type'] = 'display_data';\n",
              "          await google.colab.output.renderOutput(dataTable, element);\n",
              "          const docLink = document.createElement('div');\n",
              "          docLink.innerHTML = docLinkHtml;\n",
              "          element.appendChild(docLink);\n",
              "        }\n",
              "      </script>\n",
              "    </div>\n",
              "  </div>\n",
              "  "
            ]
          },
          "metadata": {},
          "execution_count": 18
        }
      ]
    },
    {
      "cell_type": "markdown",
      "source": [
        "**Масштабирование данных**"
      ],
      "metadata": {
        "id": "PQ9yliF0Fh6V"
      }
    },
    {
      "cell_type": "code",
      "source": [
        "scaler = StandardScaler()\n",
        "scaled_features = scaler.fit_transform(data_encoded.drop(columns=['Type']))"
      ],
      "metadata": {
        "id": "_x1lgzFpFhjA"
      },
      "execution_count": 19,
      "outputs": []
    },
    {
      "cell_type": "code",
      "source": [
        "# Вставка отмасштабированных данных\n",
        "data_scaled = pd.DataFrame(scaled_features, columns=data_encoded.columns[:-1])\n",
        "\n",
        "data_scaled.head()"
      ],
      "metadata": {
        "colab": {
          "base_uri": "https://localhost:8080/",
          "height": 287
        },
        "id": "9HddZiCkFtCt",
        "outputId": "6aa2ba04-e072-4e33-c7ab-7f1357f15b96"
      },
      "execution_count": 20,
      "outputs": [
        {
          "output_type": "execute_result",
          "data": {
            "text/plain": [
              "   Temperature         L         R       A_M      Type  Color_Blue  \\\n",
              "0    -0.779382 -0.598624 -0.459210  1.116745 -0.551677   -0.453905   \n",
              "1    -0.782110 -0.598624 -0.459241  1.162414 -0.551677   -0.453905   \n",
              "2    -0.828477 -0.598624 -0.459342  1.362213 -0.551677   -0.453905   \n",
              "3    -0.807496 -0.598624 -0.459229  1.167171 -0.551677   -0.453905   \n",
              "4    -0.897819 -0.598624 -0.459340  1.491607 -0.551677   -0.453905   \n",
              "\n",
              "   Color_Blue-White  Color_Orange  Color_Red  Color_White  Color_Yellow-White  \\\n",
              "0         -0.130189      1.069045  -0.229416    -0.258199           -0.293211   \n",
              "1         -0.130189      1.069045  -0.229416    -0.258199           -0.293211   \n",
              "2         -0.130189      1.069045  -0.229416    -0.258199           -0.293211   \n",
              "3         -0.130189      1.069045  -0.229416    -0.258199           -0.293211   \n",
              "4         -0.130189      1.069045  -0.229416    -0.258199           -0.293211   \n",
              "\n",
              "   Spectral_Class_A  Spectral_Class_B  Spectral_Class_F  Spectral_Class_G  \\\n",
              "0         -0.486943         -0.276104         -0.064685         -0.160128   \n",
              "1         -0.486943         -0.276104         -0.064685         -0.160128   \n",
              "2         -0.486943         -0.276104         -0.064685         -0.160128   \n",
              "3         -0.486943         -0.276104         -0.064685         -0.160128   \n",
              "4         -0.486943         -0.276104         -0.064685         -0.160128   \n",
              "\n",
              "   Spectral_Class_K  Spectral_Class_M  \n",
              "0          1.078036         -0.447214  \n",
              "1          1.078036         -0.447214  \n",
              "2          1.078036         -0.447214  \n",
              "3          1.078036         -0.447214  \n",
              "4          1.078036         -0.447214  "
            ],
            "text/html": [
              "\n",
              "  <div id=\"df-c98c8e82-0cb6-4b58-a86c-eaf9d9613e96\">\n",
              "    <div class=\"colab-df-container\">\n",
              "      <div>\n",
              "<style scoped>\n",
              "    .dataframe tbody tr th:only-of-type {\n",
              "        vertical-align: middle;\n",
              "    }\n",
              "\n",
              "    .dataframe tbody tr th {\n",
              "        vertical-align: top;\n",
              "    }\n",
              "\n",
              "    .dataframe thead th {\n",
              "        text-align: right;\n",
              "    }\n",
              "</style>\n",
              "<table border=\"1\" class=\"dataframe\">\n",
              "  <thead>\n",
              "    <tr style=\"text-align: right;\">\n",
              "      <th></th>\n",
              "      <th>Temperature</th>\n",
              "      <th>L</th>\n",
              "      <th>R</th>\n",
              "      <th>A_M</th>\n",
              "      <th>Type</th>\n",
              "      <th>Color_Blue</th>\n",
              "      <th>Color_Blue-White</th>\n",
              "      <th>Color_Orange</th>\n",
              "      <th>Color_Red</th>\n",
              "      <th>Color_White</th>\n",
              "      <th>Color_Yellow-White</th>\n",
              "      <th>Spectral_Class_A</th>\n",
              "      <th>Spectral_Class_B</th>\n",
              "      <th>Spectral_Class_F</th>\n",
              "      <th>Spectral_Class_G</th>\n",
              "      <th>Spectral_Class_K</th>\n",
              "      <th>Spectral_Class_M</th>\n",
              "    </tr>\n",
              "  </thead>\n",
              "  <tbody>\n",
              "    <tr>\n",
              "      <th>0</th>\n",
              "      <td>-0.779382</td>\n",
              "      <td>-0.598624</td>\n",
              "      <td>-0.459210</td>\n",
              "      <td>1.116745</td>\n",
              "      <td>-0.551677</td>\n",
              "      <td>-0.453905</td>\n",
              "      <td>-0.130189</td>\n",
              "      <td>1.069045</td>\n",
              "      <td>-0.229416</td>\n",
              "      <td>-0.258199</td>\n",
              "      <td>-0.293211</td>\n",
              "      <td>-0.486943</td>\n",
              "      <td>-0.276104</td>\n",
              "      <td>-0.064685</td>\n",
              "      <td>-0.160128</td>\n",
              "      <td>1.078036</td>\n",
              "      <td>-0.447214</td>\n",
              "    </tr>\n",
              "    <tr>\n",
              "      <th>1</th>\n",
              "      <td>-0.782110</td>\n",
              "      <td>-0.598624</td>\n",
              "      <td>-0.459241</td>\n",
              "      <td>1.162414</td>\n",
              "      <td>-0.551677</td>\n",
              "      <td>-0.453905</td>\n",
              "      <td>-0.130189</td>\n",
              "      <td>1.069045</td>\n",
              "      <td>-0.229416</td>\n",
              "      <td>-0.258199</td>\n",
              "      <td>-0.293211</td>\n",
              "      <td>-0.486943</td>\n",
              "      <td>-0.276104</td>\n",
              "      <td>-0.064685</td>\n",
              "      <td>-0.160128</td>\n",
              "      <td>1.078036</td>\n",
              "      <td>-0.447214</td>\n",
              "    </tr>\n",
              "    <tr>\n",
              "      <th>2</th>\n",
              "      <td>-0.828477</td>\n",
              "      <td>-0.598624</td>\n",
              "      <td>-0.459342</td>\n",
              "      <td>1.362213</td>\n",
              "      <td>-0.551677</td>\n",
              "      <td>-0.453905</td>\n",
              "      <td>-0.130189</td>\n",
              "      <td>1.069045</td>\n",
              "      <td>-0.229416</td>\n",
              "      <td>-0.258199</td>\n",
              "      <td>-0.293211</td>\n",
              "      <td>-0.486943</td>\n",
              "      <td>-0.276104</td>\n",
              "      <td>-0.064685</td>\n",
              "      <td>-0.160128</td>\n",
              "      <td>1.078036</td>\n",
              "      <td>-0.447214</td>\n",
              "    </tr>\n",
              "    <tr>\n",
              "      <th>3</th>\n",
              "      <td>-0.807496</td>\n",
              "      <td>-0.598624</td>\n",
              "      <td>-0.459229</td>\n",
              "      <td>1.167171</td>\n",
              "      <td>-0.551677</td>\n",
              "      <td>-0.453905</td>\n",
              "      <td>-0.130189</td>\n",
              "      <td>1.069045</td>\n",
              "      <td>-0.229416</td>\n",
              "      <td>-0.258199</td>\n",
              "      <td>-0.293211</td>\n",
              "      <td>-0.486943</td>\n",
              "      <td>-0.276104</td>\n",
              "      <td>-0.064685</td>\n",
              "      <td>-0.160128</td>\n",
              "      <td>1.078036</td>\n",
              "      <td>-0.447214</td>\n",
              "    </tr>\n",
              "    <tr>\n",
              "      <th>4</th>\n",
              "      <td>-0.897819</td>\n",
              "      <td>-0.598624</td>\n",
              "      <td>-0.459340</td>\n",
              "      <td>1.491607</td>\n",
              "      <td>-0.551677</td>\n",
              "      <td>-0.453905</td>\n",
              "      <td>-0.130189</td>\n",
              "      <td>1.069045</td>\n",
              "      <td>-0.229416</td>\n",
              "      <td>-0.258199</td>\n",
              "      <td>-0.293211</td>\n",
              "      <td>-0.486943</td>\n",
              "      <td>-0.276104</td>\n",
              "      <td>-0.064685</td>\n",
              "      <td>-0.160128</td>\n",
              "      <td>1.078036</td>\n",
              "      <td>-0.447214</td>\n",
              "    </tr>\n",
              "  </tbody>\n",
              "</table>\n",
              "</div>\n",
              "      <button class=\"colab-df-convert\" onclick=\"convertToInteractive('df-c98c8e82-0cb6-4b58-a86c-eaf9d9613e96')\"\n",
              "              title=\"Convert this dataframe to an interactive table.\"\n",
              "              style=\"display:none;\">\n",
              "        \n",
              "  <svg xmlns=\"http://www.w3.org/2000/svg\" height=\"24px\"viewBox=\"0 0 24 24\"\n",
              "       width=\"24px\">\n",
              "    <path d=\"M0 0h24v24H0V0z\" fill=\"none\"/>\n",
              "    <path d=\"M18.56 5.44l.94 2.06.94-2.06 2.06-.94-2.06-.94-.94-2.06-.94 2.06-2.06.94zm-11 1L8.5 8.5l.94-2.06 2.06-.94-2.06-.94L8.5 2.5l-.94 2.06-2.06.94zm10 10l.94 2.06.94-2.06 2.06-.94-2.06-.94-.94-2.06-.94 2.06-2.06.94z\"/><path d=\"M17.41 7.96l-1.37-1.37c-.4-.4-.92-.59-1.43-.59-.52 0-1.04.2-1.43.59L10.3 9.45l-7.72 7.72c-.78.78-.78 2.05 0 2.83L4 21.41c.39.39.9.59 1.41.59.51 0 1.02-.2 1.41-.59l7.78-7.78 2.81-2.81c.8-.78.8-2.07 0-2.86zM5.41 20L4 18.59l7.72-7.72 1.47 1.35L5.41 20z\"/>\n",
              "  </svg>\n",
              "      </button>\n",
              "      \n",
              "  <style>\n",
              "    .colab-df-container {\n",
              "      display:flex;\n",
              "      flex-wrap:wrap;\n",
              "      gap: 12px;\n",
              "    }\n",
              "\n",
              "    .colab-df-convert {\n",
              "      background-color: #E8F0FE;\n",
              "      border: none;\n",
              "      border-radius: 50%;\n",
              "      cursor: pointer;\n",
              "      display: none;\n",
              "      fill: #1967D2;\n",
              "      height: 32px;\n",
              "      padding: 0 0 0 0;\n",
              "      width: 32px;\n",
              "    }\n",
              "\n",
              "    .colab-df-convert:hover {\n",
              "      background-color: #E2EBFA;\n",
              "      box-shadow: 0px 1px 2px rgba(60, 64, 67, 0.3), 0px 1px 3px 1px rgba(60, 64, 67, 0.15);\n",
              "      fill: #174EA6;\n",
              "    }\n",
              "\n",
              "    [theme=dark] .colab-df-convert {\n",
              "      background-color: #3B4455;\n",
              "      fill: #D2E3FC;\n",
              "    }\n",
              "\n",
              "    [theme=dark] .colab-df-convert:hover {\n",
              "      background-color: #434B5C;\n",
              "      box-shadow: 0px 1px 3px 1px rgba(0, 0, 0, 0.15);\n",
              "      filter: drop-shadow(0px 1px 2px rgba(0, 0, 0, 0.3));\n",
              "      fill: #FFFFFF;\n",
              "    }\n",
              "  </style>\n",
              "\n",
              "      <script>\n",
              "        const buttonEl =\n",
              "          document.querySelector('#df-c98c8e82-0cb6-4b58-a86c-eaf9d9613e96 button.colab-df-convert');\n",
              "        buttonEl.style.display =\n",
              "          google.colab.kernel.accessAllowed ? 'block' : 'none';\n",
              "\n",
              "        async function convertToInteractive(key) {\n",
              "          const element = document.querySelector('#df-c98c8e82-0cb6-4b58-a86c-eaf9d9613e96');\n",
              "          const dataTable =\n",
              "            await google.colab.kernel.invokeFunction('convertToInteractive',\n",
              "                                                     [key], {});\n",
              "          if (!dataTable) return;\n",
              "\n",
              "          const docLinkHtml = 'Like what you see? Visit the ' +\n",
              "            '<a target=\"_blank\" href=https://colab.research.google.com/notebooks/data_table.ipynb>data table notebook</a>'\n",
              "            + ' to learn more about interactive tables.';\n",
              "          element.innerHTML = '';\n",
              "          dataTable['output_type'] = 'display_data';\n",
              "          await google.colab.output.renderOutput(dataTable, element);\n",
              "          const docLink = document.createElement('div');\n",
              "          docLink.innerHTML = docLinkHtml;\n",
              "          element.appendChild(docLink);\n",
              "        }\n",
              "      </script>\n",
              "    </div>\n",
              "  </div>\n",
              "  "
            ]
          },
          "metadata": {},
          "execution_count": 20
        }
      ]
    },
    {
      "cell_type": "markdown",
      "source": [
        "# **Обучение и метрики**"
      ],
      "metadata": {
        "id": "pjpUuG7yj81G"
      }
    },
    {
      "cell_type": "code",
      "source": [
        "X = data_scaled\n",
        "y = data_encoded['Type']\n",
        "y_features_name = ['Red Dwarf', 'Brown Dwarf', 'White Dwarf', 'Main Sequence', 'Super Giant', 'Hyper Giant']\n",
        "\n",
        "X_train : pd.DataFrame\n",
        "X_test : pd.DataFrame\n",
        "y_train : pd.Series\n",
        "y_test : pd.Series\n",
        "\n",
        "X_train, X_test, y_train, y_test = train_test_split(X, y, test_size=0.2, random_state=3)"
      ],
      "metadata": {
        "id": "9pIHwTHVGYZp"
      },
      "execution_count": 21,
      "outputs": []
    },
    {
      "cell_type": "code",
      "source": [
        "# Размер обучающей выборки\n",
        "X_train.shape, y_train.shape"
      ],
      "metadata": {
        "colab": {
          "base_uri": "https://localhost:8080/"
        },
        "id": "KM6O6mhdG8oT",
        "outputId": "c97ab8c9-f8d6-4a41-b660-6d6796cf6683"
      },
      "execution_count": 22,
      "outputs": [
        {
          "output_type": "execute_result",
          "data": {
            "text/plain": [
              "((192, 17), (192,))"
            ]
          },
          "metadata": {},
          "execution_count": 22
        }
      ]
    },
    {
      "cell_type": "code",
      "source": [
        "# Размер тестовой выборки\n",
        "X_test.shape, y_test.shape"
      ],
      "metadata": {
        "colab": {
          "base_uri": "https://localhost:8080/"
        },
        "id": "eP0dRlugHB1A",
        "outputId": "eba8e45b-cf92-4975-b2cc-6937875f8c31"
      },
      "execution_count": 23,
      "outputs": [
        {
          "output_type": "execute_result",
          "data": {
            "text/plain": [
              "((48, 17), (48,))"
            ]
          },
          "metadata": {},
          "execution_count": 23
        }
      ]
    },
    {
      "cell_type": "code",
      "source": [
        "# Обучение модели (K = 5 — значение по умолчанию)\n",
        "knn_classifier = KNeighborsClassifier()\n",
        "knn_classifier.fit(X_train, y_train)"
      ],
      "metadata": {
        "colab": {
          "base_uri": "https://localhost:8080/"
        },
        "id": "_hu2dUT3HG6o",
        "outputId": "4881d0ab-2af7-422b-fe78-b5e1a81f5d88"
      },
      "execution_count": 24,
      "outputs": [
        {
          "output_type": "execute_result",
          "data": {
            "text/plain": [
              "KNeighborsClassifier()"
            ]
          },
          "metadata": {},
          "execution_count": 24
        }
      ]
    },
    {
      "cell_type": "code",
      "source": [
        "# Предсказания обученной модели на тестовой выборке\n",
        "knn_classifier_prediction = knn_classifier.predict(X_test)"
      ],
      "metadata": {
        "id": "m2FUZElfHJ-L"
      },
      "execution_count": 25,
      "outputs": []
    },
    {
      "cell_type": "code",
      "source": [
        "# Метрика accuracy\n",
        "accuracy_score(y_test, knn_classifier_prediction)"
      ],
      "metadata": {
        "colab": {
          "base_uri": "https://localhost:8080/"
        },
        "id": "PWSZG8U0I0K4",
        "outputId": "d2688d92-9692-4475-914d-638429a4925c"
      },
      "execution_count": 26,
      "outputs": [
        {
          "output_type": "execute_result",
          "data": {
            "text/plain": [
              "0.9791666666666666"
            ]
          },
          "metadata": {},
          "execution_count": 26
        }
      ]
    },
    {
      "cell_type": "code",
      "source": [
        "# Матрица ошибок\n",
        "cm = confusion_matrix(y_test, knn_classifier_prediction)\n",
        "cm"
      ],
      "metadata": {
        "colab": {
          "base_uri": "https://localhost:8080/"
        },
        "id": "ZLJ5H2cGGlrl",
        "outputId": "2b443155-5255-465a-f730-7efed256919d"
      },
      "execution_count": 27,
      "outputs": [
        {
          "output_type": "execute_result",
          "data": {
            "text/plain": [
              "array([[ 9,  0,  0,  0,  0,  0],\n",
              "       [ 0, 11,  0,  0,  0,  0],\n",
              "       [ 0,  0,  7,  0,  0,  0],\n",
              "       [ 0,  0,  0,  7,  0,  0],\n",
              "       [ 0,  0,  0,  0,  9,  0],\n",
              "       [ 0,  0,  1,  0,  0,  4]])"
            ]
          },
          "metadata": {},
          "execution_count": 27
        }
      ]
    },
    {
      "cell_type": "code",
      "source": [
        "from sklearn.metrics import confusion_matrix, ConfusionMatrixDisplay"
      ],
      "metadata": {
        "id": "reEyddarJX2Z"
      },
      "execution_count": 28,
      "outputs": []
    },
    {
      "cell_type": "code",
      "source": [
        "# Тепловая карта нормализованной матрицы ошибок\n",
        "cm_normalized = confusion_matrix(y_test, knn_classifier_prediction, normalize='true')\n",
        "\n",
        "_, ax = plt.subplots(figsize=(11, 9))\n",
        "cm_norm_display = ConfusionMatrixDisplay(cm_normalized, display_labels=y_features_name)\n",
        "cm_norm_display.plot(cmap='PuBu', ax=ax)\n",
        "plt.show()"
      ],
      "metadata": {
        "colab": {
          "base_uri": "https://localhost:8080/",
          "height": 561
        },
        "id": "lK-BVnxiJQhF",
        "outputId": "89d606fe-72ea-4a81-9a2c-02421c14b61e"
      },
      "execution_count": 29,
      "outputs": [
        {
          "output_type": "display_data",
          "data": {
            "text/plain": [
              "<Figure size 792x648 with 2 Axes>"
            ],
            "image/png": "[encoded data removed]"
          },
          "metadata": {}
        }
      ]
    },
    {
      "cell_type": "markdown",
      "source": [
        "**Точность (precision), полнота (recall) и F-мера (F1)**"
      ],
      "metadata": {
        "id": "tGywXFOxSeDB"
      }
    },
    {
      "cell_type": "code",
      "source": [
        "print('Precission: {};'.format(precision_score(y_test, knn_classifier_prediction, average='weighted')))\n",
        "print('Recall: {};'.format(recall_score(y_test, knn_classifier_prediction, average='weighted')))\n",
        "print('F1 score: {};'.format(f1_score(y_test, knn_classifier_prediction, average='weighted')))"
      ],
      "metadata": {
        "colab": {
          "base_uri": "https://localhost:8080/"
        },
        "id": "2c4fjnF9SuBt",
        "outputId": "69b35132-cdce-486d-9649-bd9279f06edb"
      },
      "execution_count": 30,
      "outputs": [
        {
          "output_type": "stream",
          "name": "stdout",
          "text": [
            "Precission: 0.9817708333333334;\n",
            "Recall: 0.9791666666666666;\n",
            "F1 score: 0.9787037037037036;\n"
          ]
        }
      ]
    },
    {
      "cell_type": "markdown",
      "source": [
        "#**Оценка качества модели c использованием кросс-валидации**"
      ],
      "metadata": {
        "id": "zDFROGPaUQcP"
      }
    },
    {
      "cell_type": "code",
      "source": [
        "# Метрики, которые будут использоваться при оценки качества модели\n",
        "scoring = ['accuracy', 'precision_weighted', 'recall_weighted', 'f1_weighted']"
      ],
      "metadata": {
        "id": "p9mATgfJUjVL"
      },
      "execution_count": 31,
      "outputs": []
    },
    {
      "cell_type": "markdown",
      "source": [
        "**1. k-fold**"
      ],
      "metadata": {
        "id": "DwqBxe4EUnor"
      }
    },
    {
      "cell_type": "code",
      "source": [
        "# Оценка качества модели через стратегию K-Fold\n",
        "scores = cross_val_score(KNeighborsClassifier(), X, y, cv=KFold(n_splits=10), scoring='f1_weighted')\n",
        "print('{}\\nMean: {}'.format(scores, np.mean(scores)))"
      ],
      "metadata": {
        "colab": {
          "base_uri": "https://localhost:8080/"
        },
        "id": "9zTWIDt0UuYH",
        "outputId": "439f8dce-1e59-4d44-8a78-80fc9fee2dcb"
      },
      "execution_count": 32,
      "outputs": [
        {
          "output_type": "stream",
          "name": "stdout",
          "text": [
            "[1.         0.34541063 0.97222222 0.95883941 0.89844055 1.\n",
            " 0.95743146 0.84444444 1.         0.69230769]\n",
            "Mean: 0.8669096396441933\n"
          ]
        }
      ]
    },
    {
      "cell_type": "code",
      "source": [
        "# Оценка качества модели через стратегию K-Fold с помощью метода cross_validate\n",
        "# Разбиения всего два, так как при большем их количестве возникают предупреждения UndefinedMetricWarning\n",
        "cross_validate(KNeighborsClassifier(), X, y, cv=KFold(n_splits=2), scoring=scoring, return_train_score=True)"
      ],
      "metadata": {
        "colab": {
          "base_uri": "https://localhost:8080/"
        },
        "id": "QLq5oYJAU6_d",
        "outputId": "bdeb5963-ac5e-4231-94c2-dd1f4266d8c0"
      },
      "execution_count": 33,
      "outputs": [
        {
          "output_type": "execute_result",
          "data": {
            "text/plain": [
              "{'fit_time': array([0.00483346, 0.00331545]),\n",
              " 'score_time': array([0.0203681 , 0.01178765]),\n",
              " 'test_accuracy': array([0.73333333, 0.74166667]),\n",
              " 'test_f1_weighted': array([0.72988875, 0.70475669]),\n",
              " 'test_precision_weighted': array([0.82700922, 0.80780423]),\n",
              " 'test_recall_weighted': array([0.73333333, 0.74166667]),\n",
              " 'train_accuracy': array([0.95833333, 0.91666667]),\n",
              " 'train_f1_weighted': array([0.95820989, 0.9158622 ]),\n",
              " 'train_precision_weighted': array([0.96139971, 0.91678692]),\n",
              " 'train_recall_weighted': array([0.95833333, 0.91666667])}"
            ]
          },
          "metadata": {},
          "execution_count": 33
        }
      ]
    },
    {
      "cell_type": "markdown",
      "source": [
        "**2.  Stratified K-Fold**"
      ],
      "metadata": {
        "id": "7k5Xf1fOVF7o"
      }
    },
    {
      "cell_type": "code",
      "source": [
        "# Оценка качества модели через стратегию Stratified K-Fold\n",
        "scores = cross_val_score(KNeighborsClassifier(), X, y, cv=StratifiedKFold(n_splits=10), scoring='f1_weighted')\n",
        "print('{}\\nMean: {}'.format(scores, np.mean(scores)))"
      ],
      "metadata": {
        "colab": {
          "base_uri": "https://localhost:8080/"
        },
        "id": "YokNraElVMC9",
        "outputId": "536a7c8e-dfac-4f18-bce3-8e92c09a88e4"
      },
      "execution_count": 43,
      "outputs": [
        {
          "output_type": "stream",
          "name": "stdout",
          "text": [
            "[0.95767196 0.82222222 0.82777778 0.95767196 0.91904762 0.95767196\n",
            " 0.91534392 0.91111111 1.         0.91111111]\n",
            "Mean: 0.9179629629629631\n"
          ]
        }
      ]
    },
    {
      "cell_type": "code",
      "source": [
        "# Оценка качества модели через стратегию Stratified K-Fold с помощью метода cross_validate\n",
        "# Разбиения всего два, так как при большем их количестве возникают предупреждения UndefinedMetricWarning\n",
        "cross_validate(KNeighborsClassifier(), X, y, cv=StratifiedKFold(n_splits=2), scoring=scoring, return_train_score=True)"
      ],
      "metadata": {
        "colab": {
          "base_uri": "https://localhost:8080/"
        },
        "id": "94Z0cmDlmjmy",
        "outputId": "79f98393-da30-4bca-89f8-a50d2fe9cf6d"
      },
      "execution_count": 44,
      "outputs": [
        {
          "output_type": "execute_result",
          "data": {
            "text/plain": [
              "{'fit_time': array([0.00805616, 0.00998688]),\n",
              " 'score_time': array([0.03057456, 0.02573729]),\n",
              " 'test_accuracy': array([0.73333333, 0.74166667]),\n",
              " 'test_f1_weighted': array([0.72988875, 0.70475669]),\n",
              " 'test_precision_weighted': array([0.82700922, 0.80780423]),\n",
              " 'test_recall_weighted': array([0.73333333, 0.74166667]),\n",
              " 'train_accuracy': array([0.95833333, 0.91666667]),\n",
              " 'train_f1_weighted': array([0.95820989, 0.9158622 ]),\n",
              " 'train_precision_weighted': array([0.96139971, 0.91678692]),\n",
              " 'train_recall_weighted': array([0.95833333, 0.91666667])}"
            ]
          },
          "metadata": {},
          "execution_count": 44
        }
      ]
    },
    {
      "cell_type": "markdown",
      "source": [
        "**3. ShuffleSplit**"
      ],
      "metadata": {
        "id": "p9IQ_gxPVTXd"
      }
    },
    {
      "cell_type": "code",
      "source": [
        "# Оценка качества модели через стратегию ShuffleSplit\n",
        "scores = cross_val_score(KNeighborsClassifier(), X, y, cv=ShuffleSplit(n_splits=10, test_size=0.25, random_state=10), scoring='f1_weighted')\n",
        "print('{}\\nMean: {}'.format(scores, np.mean(scores)))"
      ],
      "metadata": {
        "colab": {
          "base_uri": "https://localhost:8080/"
        },
        "id": "xEixOod-VTGb",
        "outputId": "2b7f0d0e-70b2-4ea4-c595-41a94deb888c"
      },
      "execution_count": 45,
      "outputs": [
        {
          "output_type": "stream",
          "name": "stdout",
          "text": [
            "[0.91860535 0.98375758 0.95069444 0.89780659 0.86564111 0.89916226\n",
            " 0.93485265 0.9198061  0.91638173 0.84563188]\n",
            "Mean: 0.9132339690013443\n"
          ]
        }
      ]
    },
    {
      "cell_type": "markdown",
      "source": [
        "# **Подбор гиперпараметра K**"
      ],
      "metadata": {
        "id": "-55kocwCVehR"
      }
    },
    {
      "cell_type": "markdown",
      "source": [
        "Для подбора гиперпараметра K будем использовать следующие стратегии кросс-валидации: K-Fold, Stratified K-Fold, ShuffleSplit. Оптимизировать будем по взешенной F1-мере"
      ],
      "metadata": {
        "id": "T5Uo2ztWVjAj"
      }
    },
    {
      "cell_type": "code",
      "source": [
        "# Диапазон гиперпараметра K для оптимизации\n",
        "n_range = np.array(range(1, 21, 1))\n",
        "parameters_to_tune = [{'n_neighbors' : n_range}]\n",
        "parameters_to_tune"
      ],
      "metadata": {
        "colab": {
          "base_uri": "https://localhost:8080/"
        },
        "id": "bs4aAZXgk6mq",
        "outputId": "ff1df732-3ae2-49da-dc8a-30899ecd97c1"
      },
      "execution_count": 46,
      "outputs": [
        {
          "output_type": "execute_result",
          "data": {
            "text/plain": [
              "[{'n_neighbors': array([ 1,  2,  3,  4,  5,  6,  7,  8,  9, 10, 11, 12, 13, 14, 15, 16, 17,\n",
              "         18, 19, 20])}]"
            ]
          },
          "metadata": {},
          "execution_count": 46
        }
      ]
    },
    {
      "cell_type": "markdown",
      "source": [
        "## 1. Решетчатый поиск"
      ],
      "metadata": {
        "id": "iXPkF-nKk9jK"
      }
    },
    {
      "cell_type": "markdown",
      "source": [
        "### 1.1 K-fold"
      ],
      "metadata": {
        "id": "bgMXmja9lISe"
      }
    },
    {
      "cell_type": "code",
      "source": [
        "#%%time\n",
        "# Решетчатый поиск со стратегией K-Fold\n",
        "clf_gs_k_fold= GridSearchCV(KNeighborsClassifier(), parameters_to_tune, cv=KFold(n_splits=10), scoring='f1_weighted')\n",
        "clf_gs_k_fold.fit(X, y)"
      ],
      "metadata": {
        "colab": {
          "base_uri": "https://localhost:8080/"
        },
        "id": "qLzcNyxWlNGR",
        "outputId": "4aa5134e-e086-4991-c801-868ac3d7a821"
      },
      "execution_count": 47,
      "outputs": [
        {
          "output_type": "execute_result",
          "data": {
            "text/plain": [
              "GridSearchCV(cv=KFold(n_splits=10, random_state=None, shuffle=False),\n",
              "             estimator=KNeighborsClassifier(),\n",
              "             param_grid=[{'n_neighbors': array([ 1,  2,  3,  4,  5,  6,  7,  8,  9, 10, 11, 12, 13, 14, 15, 16, 17,\n",
              "       18, 19, 20])}],\n",
              "             scoring='f1_weighted')"
            ]
          },
          "metadata": {},
          "execution_count": 47
        }
      ]
    },
    {
      "cell_type": "code",
      "source": [
        "# Лучшее значение гиперпараметра\n",
        "clf_gs_k_fold.best_params_"
      ],
      "metadata": {
        "colab": {
          "base_uri": "https://localhost:8080/"
        },
        "id": "NzU8_W63lpvQ",
        "outputId": "ddc62dbf-d459-4e12-9537-a341f02da067"
      },
      "execution_count": 48,
      "outputs": [
        {
          "output_type": "execute_result",
          "data": {
            "text/plain": [
              "{'n_neighbors': 1}"
            ]
          },
          "metadata": {},
          "execution_count": 48
        }
      ]
    },
    {
      "cell_type": "code",
      "source": [
        "# Лучшее значение метрики\n",
        "clf_gs_k_fold.best_score_"
      ],
      "metadata": {
        "colab": {
          "base_uri": "https://localhost:8080/"
        },
        "id": "gtwFRFajlsnH",
        "outputId": "c685fee1-8619-449f-c692-cac820d1ddde"
      },
      "execution_count": 49,
      "outputs": [
        {
          "output_type": "execute_result",
          "data": {
            "text/plain": [
              "0.941294773194928"
            ]
          },
          "metadata": {},
          "execution_count": 49
        }
      ]
    },
    {
      "cell_type": "code",
      "source": [
        "# Изменение качества на тестовой выборке в зависимости от значения гиперпараметра K\n",
        "sns.pointplot(x=n_range, y=clf_gs_k_fold.cv_results_['mean_test_score'])\n",
        "plt.title('K-Fold (n_splits=10)')\n",
        "plt.show()"
      ],
      "metadata": {
        "colab": {
          "base_uri": "https://localhost:8080/",
          "height": 284
        },
        "id": "gRPFZn24l4NV",
        "outputId": "6c9c0619-5345-488a-823e-5ed9188c57f9"
      },
      "execution_count": 50,
      "outputs": [
        {
          "output_type": "display_data",
          "data": {
            "text/plain": [
              "<Figure size 432x288 with 1 Axes>"
            ],
            "image/png": "[encoded data removed]"
          },
          "metadata": {}
        }
      ]
    },
    {
      "cell_type": "markdown",
      "source": [
        "### 1.2. Stratified K-Fold"
      ],
      "metadata": {
        "id": "EQGGWtsXmDuS"
      }
    },
    {
      "cell_type": "code",
      "source": [
        "#%%time\n",
        "# Решетчатый поиск со стратегией Stratified K-Fold\n",
        "clf_gs_s_k_fold = GridSearchCV(KNeighborsClassifier(), parameters_to_tune, cv=StratifiedKFold(n_splits=10), scoring='f1_weighted')\n",
        "clf_gs_s_k_fold.fit(X, y)"
      ],
      "metadata": {
        "colab": {
          "base_uri": "https://localhost:8080/"
        },
        "id": "SxGWPnOcnA8t",
        "outputId": "f1c25bd9-557c-43ce-d72c-4d486906ae0f"
      },
      "execution_count": 51,
      "outputs": [
        {
          "output_type": "execute_result",
          "data": {
            "text/plain": [
              "GridSearchCV(cv=StratifiedKFold(n_splits=10, random_state=None, shuffle=False),\n",
              "             estimator=KNeighborsClassifier(),\n",
              "             param_grid=[{'n_neighbors': array([ 1,  2,  3,  4,  5,  6,  7,  8,  9, 10, 11, 12, 13, 14, 15, 16, 17,\n",
              "       18, 19, 20])}],\n",
              "             scoring='f1_weighted')"
            ]
          },
          "metadata": {},
          "execution_count": 51
        }
      ]
    },
    {
      "cell_type": "code",
      "source": [
        "# Лучшее значение гиперпараметра\n",
        "clf_gs_s_k_fold.best_params_"
      ],
      "metadata": {
        "colab": {
          "base_uri": "https://localhost:8080/"
        },
        "id": "RUIzI2LOnF86",
        "outputId": "9c9600d0-25dc-4c4b-81bb-5f0cad066182"
      },
      "execution_count": 52,
      "outputs": [
        {
          "output_type": "execute_result",
          "data": {
            "text/plain": [
              "{'n_neighbors': 3}"
            ]
          },
          "metadata": {},
          "execution_count": 52
        }
      ]
    },
    {
      "cell_type": "code",
      "source": [
        "# Лучшее значение метрики\n",
        "clf_gs_s_k_fold.best_score_"
      ],
      "metadata": {
        "colab": {
          "base_uri": "https://localhost:8080/"
        },
        "id": "_e0Tm0A8nIUB",
        "outputId": "f0be1546-ec7b-47c6-deb4-b33e574e6187"
      },
      "execution_count": 53,
      "outputs": [
        {
          "output_type": "execute_result",
          "data": {
            "text/plain": [
              "0.9404365079365078"
            ]
          },
          "metadata": {},
          "execution_count": 53
        }
      ]
    },
    {
      "cell_type": "code",
      "source": [
        "# Изменение качества на тестовой выборке в зависимости от значения гиперпараметра K\n",
        "sns.pointplot(x=n_range, y=clf_gs_s_k_fold.cv_results_['mean_test_score'])\n",
        "plt.title('Stratified K-Fold (n_splits=10)')\n",
        "plt.show()"
      ],
      "metadata": {
        "colab": {
          "base_uri": "https://localhost:8080/",
          "height": 284
        },
        "id": "leDhh--1nLIZ",
        "outputId": "c56789fd-6e22-4082-df08-c68fac70d757"
      },
      "execution_count": 54,
      "outputs": [
        {
          "output_type": "display_data",
          "data": {
            "text/plain": [
              "<Figure size 432x288 with 1 Axes>"
            ],
            "image/png": "[encoded data removed]"
          },
          "metadata": {}
        }
      ]
    },
    {
      "cell_type": "markdown",
      "source": [
        "### 1.3 ShuffleSplit"
      ],
      "metadata": {
        "id": "Np6zUyU9nxlC"
      }
    },
    {
      "cell_type": "code",
      "source": [
        "#%%time\n",
        "# Решетчатый поиск со стратегией Stratified ShuffleSplit\n",
        "clf_gs_sfl_splt = GridSearchCV(KNeighborsClassifier(), parameters_to_tune, cv=ShuffleSplit(n_splits=10, test_size=0.25, random_state=10),\n",
        "                                   scoring='f1_weighted')\n",
        "clf_gs_sfl_splt.fit(X, y)"
      ],
      "metadata": {
        "colab": {
          "base_uri": "https://localhost:8080/"
        },
        "id": "INceVuOkn3UL",
        "outputId": "e25b6332-2ab4-448b-f7db-55158bb12b8c"
      },
      "execution_count": 74,
      "outputs": [
        {
          "output_type": "execute_result",
          "data": {
            "text/plain": [
              "GridSearchCV(cv=ShuffleSplit(n_splits=10, random_state=10, test_size=0.25, train_size=None),\n",
              "             estimator=KNeighborsClassifier(),\n",
              "             param_grid=[{'n_neighbors': array([ 1,  2,  3,  4,  5,  6,  7,  8,  9, 10, 11, 12, 13, 14, 15, 16, 17,\n",
              "       18, 19, 20])}],\n",
              "             scoring='f1_weighted')"
            ]
          },
          "metadata": {},
          "execution_count": 74
        }
      ]
    },
    {
      "cell_type": "code",
      "source": [
        "# Лучшее значение гиперпараметра\n",
        "clf_gs_sfl_splt.best_params_"
      ],
      "metadata": {
        "colab": {
          "base_uri": "https://localhost:8080/"
        },
        "id": "h3M4hEzJn_cH",
        "outputId": "2e42a733-713a-4b14-e1ee-bf018893f361"
      },
      "execution_count": 75,
      "outputs": [
        {
          "output_type": "execute_result",
          "data": {
            "text/plain": [
              "{'n_neighbors': 1}"
            ]
          },
          "metadata": {},
          "execution_count": 75
        }
      ]
    },
    {
      "cell_type": "code",
      "source": [
        "# Лучшее значение метрики\n",
        "clf_gs_sfl_splt.best_score_"
      ],
      "metadata": {
        "colab": {
          "base_uri": "https://localhost:8080/"
        },
        "id": "BuQqC2WqoBnQ",
        "outputId": "f78e601b-88d6-457e-f897-3d00ac633054"
      },
      "execution_count": 76,
      "outputs": [
        {
          "output_type": "execute_result",
          "data": {
            "text/plain": [
              "0.9521177553842886"
            ]
          },
          "metadata": {},
          "execution_count": 76
        }
      ]
    },
    {
      "cell_type": "code",
      "source": [
        "# Изменение качества на тестовой выборке в зависимости от значения гиперпараметра K\n",
        "sns.pointplot(x=n_range, y=clf_gs_sfl_splt.cv_results_['mean_test_score'])\n",
        "plt.title('Stratified ShuffleSplit (n_splits=10, test_size=0.25)')\n",
        "plt.show()"
      ],
      "metadata": {
        "colab": {
          "base_uri": "https://localhost:8080/",
          "height": 284
        },
        "id": "yLR0-iXxoEA5",
        "outputId": "1443236b-d067-4c84-eacc-80365ca800fd"
      },
      "execution_count": 77,
      "outputs": [
        {
          "output_type": "display_data",
          "data": {
            "text/plain": [
              "<Figure size 432x288 with 1 Axes>"
            ],
            "image/png": "[encoded data removed]"
          },
          "metadata": {}
        }
      ]
    },
    {
      "cell_type": "markdown",
      "source": [
        "## 2. Случайный поиск"
      ],
      "metadata": {
        "id": "FE3xW0F2oQiD"
      }
    },
    {
      "cell_type": "markdown",
      "source": [
        "### 2.1 K-Fokd"
      ],
      "metadata": {
        "id": "v2ko0jHHoXpV"
      }
    },
    {
      "cell_type": "code",
      "source": [
        "#%%time\n",
        "# Случайный поиск со стратегией K-Fold\n",
        "clf_rs_k_fold= RandomizedSearchCV(KNeighborsClassifier(), parameters_to_tune, cv=KFold(n_splits=10), scoring='f1_weighted', n_iter=20)\n",
        "clf_rs_k_fold.fit(X, y)"
      ],
      "metadata": {
        "colab": {
          "base_uri": "https://localhost:8080/"
        },
        "id": "TMAMWpXiochq",
        "outputId": "5a47b781-687b-4c6d-ffc1-cc942d38d79a"
      },
      "execution_count": 60,
      "outputs": [
        {
          "output_type": "execute_result",
          "data": {
            "text/plain": [
              "RandomizedSearchCV(cv=KFold(n_splits=10, random_state=None, shuffle=False),\n",
              "                   estimator=KNeighborsClassifier(), n_iter=20,\n",
              "                   param_distributions=[{'n_neighbors': array([ 1,  2,  3,  4,  5,  6,  7,  8,  9, 10, 11, 12, 13, 14, 15, 16, 17,\n",
              "       18, 19, 20])}],\n",
              "                   scoring='f1_weighted')"
            ]
          },
          "metadata": {},
          "execution_count": 60
        }
      ]
    },
    {
      "cell_type": "code",
      "source": [
        "# Лучшее значение гиперпараметра\n",
        "clf_rs_k_fold.best_params_"
      ],
      "metadata": {
        "colab": {
          "base_uri": "https://localhost:8080/"
        },
        "id": "LP88V5lGofxk",
        "outputId": "153bfa28-5186-4aaf-ac3e-c31583e1427d"
      },
      "execution_count": 61,
      "outputs": [
        {
          "output_type": "execute_result",
          "data": {
            "text/plain": [
              "{'n_neighbors': 1}"
            ]
          },
          "metadata": {},
          "execution_count": 61
        }
      ]
    },
    {
      "cell_type": "code",
      "source": [
        "# Лучшее значение метрики\n",
        "clf_rs_k_fold.best_score_"
      ],
      "metadata": {
        "colab": {
          "base_uri": "https://localhost:8080/"
        },
        "id": "CRl0xzlwoiDA",
        "outputId": "70523657-ef3d-4b65-a4a6-f61945a067da"
      },
      "execution_count": 62,
      "outputs": [
        {
          "output_type": "execute_result",
          "data": {
            "text/plain": [
              "0.941294773194928"
            ]
          },
          "metadata": {},
          "execution_count": 62
        }
      ]
    },
    {
      "cell_type": "code",
      "source": [
        "# Изменение качества на тестовой выборке в зависимости от значения гиперпараметра K\n",
        "sns.pointplot(x=n_range, y=clf_rs_k_fold.cv_results_['mean_test_score'])\n",
        "plt.title('K-Fold (n_splits=10)')\n",
        "plt.show()"
      ],
      "metadata": {
        "colab": {
          "base_uri": "https://localhost:8080/",
          "height": 284
        },
        "id": "I0sySpUNoknx",
        "outputId": "ba20f112-c51b-4b77-9421-aaf8d4a595dd"
      },
      "execution_count": 63,
      "outputs": [
        {
          "output_type": "display_data",
          "data": {
            "text/plain": [
              "<Figure size 432x288 with 1 Axes>"
            ],
            "image/png": "[encoded data removed]"
          },
          "metadata": {}
        }
      ]
    },
    {
      "cell_type": "markdown",
      "source": [
        "### 2.2 Stratified K-Fold"
      ],
      "metadata": {
        "id": "N0CR4_7KooAF"
      }
    },
    {
      "cell_type": "code",
      "source": [
        "#%%time\n",
        "# Случайный поиск со стратегией Stratified K-Fold\n",
        "clf_rs_s_k_fold = RandomizedSearchCV(KNeighborsClassifier(), parameters_to_tune, cv=StratifiedKFold(n_splits=10),\n",
        "                                     scoring='f1_weighted', n_iter=20)\n",
        "clf_rs_s_k_fold.fit(X, y)\n"
      ],
      "metadata": {
        "colab": {
          "base_uri": "https://localhost:8080/"
        },
        "id": "jPz4GL3kosPC",
        "outputId": "f20580d6-55a7-4ec2-b913-bec6e97567f9"
      },
      "execution_count": 64,
      "outputs": [
        {
          "output_type": "execute_result",
          "data": {
            "text/plain": [
              "RandomizedSearchCV(cv=StratifiedKFold(n_splits=10, random_state=None, shuffle=False),\n",
              "                   estimator=KNeighborsClassifier(), n_iter=20,\n",
              "                   param_distributions=[{'n_neighbors': array([ 1,  2,  3,  4,  5,  6,  7,  8,  9, 10, 11, 12, 13, 14, 15, 16, 17,\n",
              "       18, 19, 20])}],\n",
              "                   scoring='f1_weighted')"
            ]
          },
          "metadata": {},
          "execution_count": 64
        }
      ]
    },
    {
      "cell_type": "code",
      "source": [
        "# Лучшее значение гиперпараметра\n",
        "clf_rs_s_k_fold.best_params_"
      ],
      "metadata": {
        "colab": {
          "base_uri": "https://localhost:8080/"
        },
        "id": "Vf6m8vhvoxbl",
        "outputId": "602af03c-3303-4316-d1b5-14249670e3f1"
      },
      "execution_count": 65,
      "outputs": [
        {
          "output_type": "execute_result",
          "data": {
            "text/plain": [
              "{'n_neighbors': 3}"
            ]
          },
          "metadata": {},
          "execution_count": 65
        }
      ]
    },
    {
      "cell_type": "code",
      "source": [
        "# Лучшее значение метрики\n",
        "clf_rs_s_k_fold.best_score_"
      ],
      "metadata": {
        "colab": {
          "base_uri": "https://localhost:8080/"
        },
        "id": "qWR8N4tMo00r",
        "outputId": "4c429d9b-4d17-452c-d709-6fe6dcd8d3e3"
      },
      "execution_count": 66,
      "outputs": [
        {
          "output_type": "execute_result",
          "data": {
            "text/plain": [
              "0.9404365079365078"
            ]
          },
          "metadata": {},
          "execution_count": 66
        }
      ]
    },
    {
      "cell_type": "code",
      "source": [
        "# Изменение качества на тестовой выборке в зависимости от значения гиперпараметра K\n",
        "sns.pointplot(x=n_range, y=clf_rs_s_k_fold.cv_results_['mean_test_score'])\n",
        "plt.title('Stratified K-Fold (n_splits=10)')\n",
        "plt.show()"
      ],
      "metadata": {
        "colab": {
          "base_uri": "https://localhost:8080/",
          "height": 284
        },
        "id": "LRqJ7urqo2y4",
        "outputId": "db0a8590-77de-41e7-ebb4-575120285832"
      },
      "execution_count": 67,
      "outputs": [
        {
          "output_type": "display_data",
          "data": {
            "text/plain": [
              "<Figure size 432x288 with 1 Axes>"
            ],
            "image/png": "[encoded data removed]"
          },
          "metadata": {}
        }
      ]
    },
    {
      "cell_type": "markdown",
      "source": [
        "### 2.3 ShuffleSplit"
      ],
      "metadata": {
        "id": "1Kd_A1tLpAdq"
      }
    },
    {
      "cell_type": "code",
      "source": [
        "#%%time\n",
        "# Случайный поиск со стратегией Stratified ShuffleSplit\n",
        "clf_rs_s_sfl_splt = RandomizedSearchCV(KNeighborsClassifier(), parameters_to_tune, cv=ShuffleSplit(n_splits=10, test_size=0.25, random_state=10),\n",
        "                                     scoring='f1_weighted', n_iter=20)\n",
        "clf_rs_s_sfl_splt.fit(X, y)"
      ],
      "metadata": {
        "colab": {
          "base_uri": "https://localhost:8080/"
        },
        "id": "EWEAt9-TpDTU",
        "outputId": "380ff23d-fc4b-4509-8827-88526b673b19"
      },
      "execution_count": 69,
      "outputs": [
        {
          "output_type": "execute_result",
          "data": {
            "text/plain": [
              "RandomizedSearchCV(cv=ShuffleSplit(n_splits=10, random_state=10, test_size=0.25, train_size=None),\n",
              "                   estimator=KNeighborsClassifier(), n_iter=20,\n",
              "                   param_distributions=[{'n_neighbors': array([ 1,  2,  3,  4,  5,  6,  7,  8,  9, 10, 11, 12, 13, 14, 15, 16, 17,\n",
              "       18, 19, 20])}],\n",
              "                   scoring='f1_weighted')"
            ]
          },
          "metadata": {},
          "execution_count": 69
        }
      ]
    },
    {
      "cell_type": "code",
      "source": [
        "# Лучшее значение гиперпараметра\n",
        "clf_rs_s_sfl_splt.best_params_"
      ],
      "metadata": {
        "colab": {
          "base_uri": "https://localhost:8080/"
        },
        "id": "RIl-rb1VpKvs",
        "outputId": "c73e17db-1177-4aeb-aba0-c0e0de3d0e0a"
      },
      "execution_count": 70,
      "outputs": [
        {
          "output_type": "execute_result",
          "data": {
            "text/plain": [
              "{'n_neighbors': 1}"
            ]
          },
          "metadata": {},
          "execution_count": 70
        }
      ]
    },
    {
      "cell_type": "code",
      "source": [
        "# Лучшее значение метрики\n",
        "clf_rs_s_sfl_splt.best_score_"
      ],
      "metadata": {
        "colab": {
          "base_uri": "https://localhost:8080/"
        },
        "id": "4LMUKjKKpMSt",
        "outputId": "20e0969e-5a5e-4ead-e6df-79a8756d6af5"
      },
      "execution_count": 71,
      "outputs": [
        {
          "output_type": "execute_result",
          "data": {
            "text/plain": [
              "0.9521177553842886"
            ]
          },
          "metadata": {},
          "execution_count": 71
        }
      ]
    },
    {
      "cell_type": "code",
      "source": [
        "# Изменение качества на тестовой выборке в зависимости от значения гиперпараметра K\n",
        "sns.pointplot(x=n_range, y=clf_rs_s_sfl_splt.cv_results_['mean_test_score'])\n",
        "plt.title('Stratified ShuffleSplit (n_splits=10, test_size=0.25)')\n",
        "plt.show()"
      ],
      "metadata": {
        "colab": {
          "base_uri": "https://localhost:8080/",
          "height": 284
        },
        "id": "wEADm4jRpPa4",
        "outputId": "d764438d-3131-48f5-f945-057a5d57c93e"
      },
      "execution_count": 72,
      "outputs": [
        {
          "output_type": "display_data",
          "data": {
            "text/plain": [
              "<Figure size 432x288 with 1 Axes>"
            ],
            "image/png": "[encoded data removed]"
          },
          "metadata": {}
        }
      ]
    },
    {
      "cell_type": "markdown",
      "source": [
        "# Обучение модели с оптимизированным гиперпараметром"
      ],
      "metadata": {
        "id": "lfuXMP-EpWq7"
      }
    },
    {
      "cell_type": "markdown",
      "source": [
        "В качестве оптимизированной модели возмём классификатор с гиперапараметром K = 1, найденным решетчатым поиском со стратегией ShuffleSplit, так как у него наиулчшее значение метрики."
      ],
      "metadata": {
        "id": "SGgJjjxzphNu"
      }
    },
    {
      "cell_type": "code",
      "source": [
        "# Обучение модели c оптимизированным гиперпараметром\n",
        "knn_classifier_optimized = clf_gs_sfl_splt.best_estimator_\n",
        "knn_classifier_optimized.fit(X_train, y_train)"
      ],
      "metadata": {
        "colab": {
          "base_uri": "https://localhost:8080/"
        },
        "id": "93AgD02OpWSj",
        "outputId": "3e79db68-ca47-410f-85df-31b9c95a01f8"
      },
      "execution_count": 78,
      "outputs": [
        {
          "output_type": "execute_result",
          "data": {
            "text/plain": [
              "KNeighborsClassifier(n_neighbors=1)"
            ]
          },
          "metadata": {},
          "execution_count": 78
        }
      ]
    },
    {
      "cell_type": "code",
      "source": [
        "# Предсказания обученной модели на тестовой выборке\n",
        "knn_classifier_optimized_prediction = knn_classifier_optimized.predict(X_test)\n",
        "knn_classifier_optimized_prob = knn_classifier_optimized.predict_proba(X_test)"
      ],
      "metadata": {
        "id": "sPeDzPnTpzAn"
      },
      "execution_count": 79,
      "outputs": []
    },
    {
      "cell_type": "markdown",
      "source": [
        "## Оценка качества модели с оптимизированным гиперпараметром"
      ],
      "metadata": {
        "id": "uwHvPG2Vqog5"
      }
    },
    {
      "cell_type": "markdown",
      "source": [
        "###  1. Accuracy"
      ],
      "metadata": {
        "id": "y4UjutRfqsYm"
      }
    },
    {
      "cell_type": "code",
      "source": [
        "# Точности (Accuracies) старой и новой моделей\n",
        "print('K = 5: {};\\nK = 1: {}.'.format(accuracy_score(y_test, knn_classifier_prediction),\n",
        "                                      accuracy_score(y_test, knn_classifier_optimized_prediction)))"
      ],
      "metadata": {
        "colab": {
          "base_uri": "https://localhost:8080/"
        },
        "id": "A2oJK791q1vt",
        "outputId": "de87fa6d-29ca-4bee-a981-80e43c6b7479"
      },
      "execution_count": 80,
      "outputs": [
        {
          "output_type": "stream",
          "name": "stdout",
          "text": [
            "K = 5: 0.9791666666666666;\n",
            "K = 1: 1.0.\n"
          ]
        }
      ]
    },
    {
      "cell_type": "markdown",
      "source": [
        "### 2. Матрицы ошибок"
      ],
      "metadata": {
        "id": "LPYh3RktrCa9"
      }
    },
    {
      "cell_type": "code",
      "source": [
        "# Тепловые карты матриц ошибок\n",
        "fig, ax = plt.subplots(1, 2, figsize=(22,9))\n",
        "ConfusionMatrixDisplay.from_predictions(y_test, knn_classifier_prediction, normalize='true',\n",
        "                                        display_labels=y_features_name, ax=ax[0], cmap='PuBu')\n",
        "ConfusionMatrixDisplay.from_predictions(y_test, knn_classifier_optimized_prediction, normalize='true',\n",
        "                                        display_labels=y_features_name, ax=ax[1], cmap='PuBu')\n",
        "fig.suptitle('Матрицы ошибок')\n",
        "ax[0].title.set_text('K = 5')\n",
        "ax[1].title.set_text('K = 1')\n",
        "plt.show()"
      ],
      "metadata": {
        "colab": {
          "base_uri": "https://localhost:8080/",
          "height": 600
        },
        "id": "Pd0GqOEorGpZ",
        "outputId": "082193bd-0709-4f30-a26a-2b363279002f"
      },
      "execution_count": 82,
      "outputs": [
        {
          "output_type": "display_data",
          "data": {
            "text/plain": [
              "<Figure size 1584x648 with 4 Axes>"
            ],
            "image/png": "[encoded data removed]"
          },
          "metadata": {}
        }
      ]
    },
    {
      "cell_type": "markdown",
      "source": [
        "### 3. Точность (precision), полнота (recall) и F-мера (F1)"
      ],
      "metadata": {
        "id": "FBDLjcIprak4"
      }
    },
    {
      "cell_type": "code",
      "source": [
        "# Точности (Precissions) старой и новой моделей (взвешенные)\n",
        "print('K = 5: {};\\nK = 1: {}.'.format(precision_score(y_test, knn_classifier_prediction, average='weighted'),\n",
        "                                      precision_score(y_test, knn_classifier_optimized_prediction, average='weighted')))"
      ],
      "metadata": {
        "colab": {
          "base_uri": "https://localhost:8080/"
        },
        "id": "PvcJg19mrg9P",
        "outputId": "87767f1a-8dbf-468b-f9c3-f096c7cca129"
      },
      "execution_count": 83,
      "outputs": [
        {
          "output_type": "stream",
          "name": "stdout",
          "text": [
            "K = 5: 0.9817708333333334;\n",
            "K = 1: 1.0.\n"
          ]
        }
      ]
    },
    {
      "cell_type": "code",
      "source": [
        "# Полноты (Recalls) старой и новой моделей (взвешенные)\n",
        "print('K = 5: {};\\nK = 1: {}.'.format(recall_score(y_test, knn_classifier_prediction, average='weighted'),\n",
        "                                      recall_score(y_test, knn_classifier_optimized_prediction, average='weighted')))"
      ],
      "metadata": {
        "colab": {
          "base_uri": "https://localhost:8080/"
        },
        "id": "SUI6cq3jrj-e",
        "outputId": "25718eed-a5f7-4141-96c4-fe4000bfce2d"
      },
      "execution_count": 84,
      "outputs": [
        {
          "output_type": "stream",
          "name": "stdout",
          "text": [
            "K = 5: 0.9791666666666666;\n",
            "K = 1: 1.0.\n"
          ]
        }
      ]
    },
    {
      "cell_type": "code",
      "source": [
        "# F-меры (F1) старой и новой моделей (взвешенные)\n",
        "print('K = 5: {};\\nK = 1: {}.'.format(f1_score(y_test, knn_classifier_prediction, average='weighted'),\n",
        "                                      f1_score(y_test, knn_classifier_optimized_prediction, average='weighted')))"
      ],
      "metadata": {
        "colab": {
          "base_uri": "https://localhost:8080/"
        },
        "id": "k98vFEh1rmV0",
        "outputId": "601868c6-e47f-4f06-aa67-bdb02d6957c8"
      },
      "execution_count": 85,
      "outputs": [
        {
          "output_type": "stream",
          "name": "stdout",
          "text": [
            "K = 5: 0.9787037037037036;\n",
            "K = 1: 1.0.\n"
          ]
        }
      ]
    },
    {
      "cell_type": "markdown",
      "source": [
        "# Кривые обучения и валидации"
      ],
      "metadata": {
        "id": "PdMCr_Ibr8Su"
      }
    },
    {
      "cell_type": "code",
      "source": [
        "def plot_learning_curve(estimator, title, X, y, ylim=None, cv=None,\n",
        "                        n_jobs=None, train_sizes=np.linspace(.1, 1.0, 5), scoring='accuracy'):\n",
        "    \"\"\"\n",
        "    Generate a simple plot of the test and training learning curve.\n",
        "\n",
        "    Parameters\n",
        "    ----------\n",
        "    estimator : object type that implements the \"fit\" and \"predict\" methods\n",
        "        An object of that type which is cloned for each validation.\n",
        "\n",
        "    title : string\n",
        "        Title for the chart.\n",
        "\n",
        "    X : array-like, shape (n_samples, n_features)\n",
        "        Training vector, where n_samples is the number of samples and\n",
        "        n_features is the number of features.\n",
        "\n",
        "    y : array-like, shape (n_samples) or (n_samples, n_features), optional\n",
        "        Target relative to X for classification or regression;\n",
        "        None for unsupervised learning.\n",
        "\n",
        "    ylim : tuple, shape (ymin, ymax), optional\n",
        "        Defines minimum and maximum yvalues plotted.\n",
        "\n",
        "    cv : int, cross-validation generator or an iterable, optional\n",
        "        Determines the cross-validation splitting strategy.\n",
        "        Possible inputs for cv are:\n",
        "          - None, to use the default 3-fold cross-validation,\n",
        "          - integer, to specify the number of folds.\n",
        "          - :term:`CV splitter`,\n",
        "          - An iterable yielding (train, test) splits as arrays of indices.\n",
        "\n",
        "        For integer/None inputs, if ``y`` is binary or multiclass,\n",
        "        :class:`StratifiedKFold` used. If the estimator is not a classifier\n",
        "        or if ``y`` is neither binary nor multiclass, :class:`KFold` is used.\n",
        "\n",
        "        Refer :ref:`User Guide <cross_validation>` for the various\n",
        "        cross-validators that can be used here.\n",
        "\n",
        "    n_jobs : int or None, optional (default=None)\n",
        "        Number of jobs to run in parallel.\n",
        "        ``None`` means 1 unless in a :obj:`joblib.parallel_backend` context.\n",
        "        ``-1`` means using all processors. See :term:`Glossary <n_jobs>`\n",
        "        for more details.\n",
        "\n",
        "    train_sizes : array-like, shape (n_ticks,), dtype float or int\n",
        "        Relative or absolute numbers of training examples that will be used to\n",
        "        generate the learning curve. If the dtype is float, it is regarded as a\n",
        "        fraction of the maximum size of the training set (that is determined\n",
        "        by the selected validation method), i.e. it has to be within (0, 1].\n",
        "        Otherwise it is interpreted as absolute sizes of the training sets.\n",
        "        Note that for classification the number of samples usually have to\n",
        "        be big enough to contain at least one sample from each class.\n",
        "        (default: np.linspace(0.1, 1.0, 5))\n",
        "    \"\"\"\n",
        "    plt.figure()\n",
        "    plt.title(title)\n",
        "    if ylim is not None:\n",
        "        plt.ylim(*ylim)\n",
        "    plt.xlabel(\"Training examples\")\n",
        "    plt.ylabel(scoring)\n",
        "    train_sizes, train_scores, test_scores = learning_curve(\n",
        "        estimator, X, y, cv=cv, scoring=scoring, n_jobs=n_jobs, train_sizes=train_sizes)\n",
        "    train_scores_mean = np.mean(train_scores, axis=1)\n",
        "    train_scores_std = np.std(train_scores, axis=1)\n",
        "    test_scores_mean = np.mean(test_scores, axis=1)\n",
        "    test_scores_std = np.std(test_scores, axis=1)\n",
        "    plt.grid()\n",
        "\n",
        "    plt.fill_between(train_sizes, train_scores_mean - train_scores_std,\n",
        "                     train_scores_mean + train_scores_std, alpha=0.3,\n",
        "                     color=\"r\")\n",
        "    plt.fill_between(train_sizes, test_scores_mean - test_scores_std,\n",
        "                     test_scores_mean + test_scores_std, alpha=0.1, color=\"g\")\n",
        "    plt.plot(train_sizes, train_scores_mean, 'o-', color=\"r\",\n",
        "             label=\"Training score\")\n",
        "    plt.plot(train_sizes, test_scores_mean, 'o-', color=\"g\",\n",
        "             label=\"Cross-validation score\")\n",
        "\n",
        "    plt.legend(loc=\"best\")\n",
        "    return plt"
      ],
      "metadata": {
        "id": "CP0L-gOFr84y"
      },
      "execution_count": 86,
      "outputs": []
    },
    {
      "cell_type": "code",
      "source": [
        "# Кривая обучения для первоначальной модели\n",
        "plot_learning_curve(KNeighborsClassifier(), 'K = 5', X, y, cv=20, scoring='f1_weighted')\n",
        "plt.show()"
      ],
      "metadata": {
        "colab": {
          "base_uri": "https://localhost:8080/",
          "height": 301
        },
        "id": "qNrrNB_ysFqp",
        "outputId": "6b383cbe-6c20-48a7-bd7e-f40c41350987"
      },
      "execution_count": 87,
      "outputs": [
        {
          "output_type": "display_data",
          "data": {
            "text/plain": [
              "<Figure size 432x288 with 1 Axes>"
            ],
            "image/png": "[encoded data removed]"
          },
          "metadata": {}
        }
      ]
    },
    {
      "cell_type": "code",
      "source": [
        "# Кривая обучения для модели с оптимизированным гиперпараметром\n",
        "plot_learning_curve(clf_gs_sfl_splt.best_estimator_, 'K = 1', X, y, cv=20, scoring='f1_weighted')\n",
        "plt.show()"
      ],
      "metadata": {
        "colab": {
          "base_uri": "https://localhost:8080/",
          "height": 301
        },
        "id": "IrDsMpdWsPb_",
        "outputId": "c4fd03cf-354c-4f49-d3a6-3933b3ccc4a9"
      },
      "execution_count": 89,
      "outputs": [
        {
          "output_type": "display_data",
          "data": {
            "text/plain": [
              "<Figure size 432x288 with 1 Axes>"
            ],
            "image/png": "[encoded data removed]"
          },
          "metadata": {}
        }
      ]
    },
    {
      "cell_type": "code",
      "source": [
        "def plot_validation_curve(estimator, title, X, y,\n",
        "                          param_name, param_range, cv,\n",
        "                          scoring='accuracy'):\n",
        "\n",
        "    train_scores, test_scores = validation_curve(\n",
        "        estimator, X, y, param_name=param_name, param_range=param_range,\n",
        "        cv=cv, scoring=scoring, n_jobs=1)\n",
        "    train_scores_mean = np.mean(train_scores, axis=1)\n",
        "    train_scores_std = np.std(train_scores, axis=1)\n",
        "    test_scores_mean = np.mean(test_scores, axis=1)\n",
        "    test_scores_std = np.std(test_scores, axis=1)\n",
        "\n",
        "    plt.title(title)\n",
        "    plt.xlabel(param_name)\n",
        "    plt.ylabel(str(scoring))\n",
        "    plt.ylim(0.0, 1.1)\n",
        "    lw = 2\n",
        "    plt.plot(param_range, train_scores_mean, label=\"Training score\",\n",
        "             color=\"darkorange\", lw=lw)\n",
        "    plt.fill_between(param_range, train_scores_mean - train_scores_std,\n",
        "                     train_scores_mean + train_scores_std, alpha=0.4,\n",
        "                     color=\"darkorange\", lw=lw)\n",
        "    plt.plot(param_range, test_scores_mean, label=\"Cross-validation score\",\n",
        "             color=\"navy\", lw=lw)\n",
        "    plt.fill_between(param_range, test_scores_mean - test_scores_std,\n",
        "                     test_scores_mean + test_scores_std, alpha=0.2,\n",
        "                     color=\"navy\", lw=lw)\n",
        "    plt.legend(loc=\"best\")\n",
        "    return plt"
      ],
      "metadata": {
        "id": "LflZY6tosXoy"
      },
      "execution_count": 90,
      "outputs": []
    },
    {
      "cell_type": "code",
      "source": [
        "# Кривая валидации\n",
        "n_range_for_val_curve = np.array(range(5,205,5))\n",
        "plot_validation_curve(clf_gs_sfl_splt.best_estimator_, 'KNN',X, y,\n",
        "                      param_name='n_neighbors', param_range=n_range_for_val_curve,\n",
        "                      cv=20, scoring=\"f1_weighted\")\n",
        "plt.show()"
      ],
      "metadata": {
        "colab": {
          "base_uri": "https://localhost:8080/",
          "height": 301
        },
        "id": "vJazxfLNsaZX",
        "outputId": "7fc7563d-5f6a-480b-deea-32d5f81faf7f"
      },
      "execution_count": 92,
      "outputs": [
        {
          "output_type": "display_data",
          "data": {
            "text/plain": [
              "<Figure size 432x288 with 1 Axes>"
            ],
            "image/png": "[encoded data removed]"
          },
          "metadata": {}
        }
      ]
    }
  ]
}